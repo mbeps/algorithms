{
 "cells": [
  {
   "cell_type": "code",
   "execution_count": 42,
   "metadata": {},
   "outputs": [],
   "source": [
    "from typing import List, Callable, Dict\n",
    "import heapq\n",
    "import matplotlib.pyplot as plt\n",
    "import timeit\n",
    "import time\n",
    "import math"
   ]
  },
  {
   "cell_type": "markdown",
   "metadata": {},
   "source": [
    "# **Sorting Algorithms**"
   ]
  },
  {
   "cell_type": "code",
   "execution_count": 28,
   "metadata": {},
   "outputs": [],
   "source": [
    "test_list: list[int] = [64, 34, 25, 12, 22, 11, 90]\n",
    "\n",
    "def run_tests(sorting_algorithm: Callable[[List[int]], List[int]]) -> None:\n",
    "    print(f\"Original List: {test_list}\\nSorted List: {sorting_algorithm(test_list.copy())}\\n\")"
   ]
  },
  {
   "cell_type": "markdown",
   "metadata": {},
   "source": [
    "## **Bubble Sort**"
   ]
  },
  {
   "cell_type": "markdown",
   "metadata": {},
   "source": [
    "Bubble Sort is a simple comparison-based sorting algorithm. It's named \"Bubble Sort\" because elements tend to move up into the correct order, similar to bubbles rising to the surface.\n",
    "\n",
    "### **How It Works**\n",
    "\n",
    "1. **Comparison & Swapping:** Starting from the first element of the list, compare each pair of adjacent items in sequence.\n",
    "2. **Reordering:** If a pair is in the wrong order, swap them.\n",
    "3. **Repeating the Process:** Continue this process for each pair of adjacent items, from the first pair to the last one.\n",
    "4. **Iterating:** Repeat steps 1-3 for the entire list, but now the largest element is already in its final position. Each iteration \"bubbles\" the next largest element to its correct place.\n",
    "5. **Termination:** Continue the process until no more swaps are needed. The absence of swaps indicates that the list is sorted.\n",
    "\n",
    "### **Example**\n",
    "\n",
    "Consider sorting the list `[5, 2, 9, 1, 5, 6]`. Here's how Bubble Sort will sort it:\n",
    "\n",
    "1. `[2, 5, 1, 5, 6, 9]` - Swap 5 and 2\n",
    "2. `[2, 1, 5, 5, 6, 9]` - Swap 5 and 1\n",
    "3. `[2, 1, 5, 5, 6, 9]` - No swap needed\n",
    "4. `[2, 1, 5, 5, 6, 9]` - No swap needed\n",
    "5. `[2, 1, 5, 5, 6, 9]` - No swap needed\n",
    "\n",
    "The process continues until the list is sorted.\n",
    "\n",
    "### **Mathematical Explanation**\n",
    "\n",
    "The key operation of Bubble Sort is the comparison and potential swap of adjacent elements. This operation is performed $O(n)$ times in each pass, and there are $O(n)$ passes in the worst case, making for a total of $O(n^2)$ comparisons and swaps.\n",
    "\n",
    "### **Complexity Analysis**\n",
    "\n",
    "- **Time Complexity:** \n",
    "    - **Worst-Case:** $O(n^2)$\n",
    "    - **Average-Case:** $O(n^2)$\n",
    "    - **Best-Case:** $O(n)$ if the list is already sorted, and the algorithm is optimized to recognize that.\n",
    "- **Space Complexity:** $O(1)$, as Bubble Sort only requires a constant amount of additional space.\n",
    "\n",
    "### **Conclusion**\n",
    "\n",
    "Bubble Sort is easy to understand and implement but is not suitable for large datasets due to its quadratic time complexity in average and worst cases. It can, however, be effective for nearly sorted data or very small data sets."
   ]
  },
  {
   "cell_type": "code",
   "execution_count": 29,
   "metadata": {},
   "outputs": [],
   "source": [
    "def bubble_sort(arr: List[int]) -> List[int]:\n",
    "    n: int = len(arr)\n",
    "    for i in range(n):\n",
    "        swapped: bool = False\n",
    "        for j in range(0, n - i - 1):\n",
    "            if arr[j] > arr[j + 1]:\n",
    "                arr[j], arr[j + 1] = arr[j + 1], arr[j]  # Swapping the elements\n",
    "                swapped = True\n",
    "        if not swapped:\n",
    "            break\n",
    "    return arr\n"
   ]
  },
  {
   "cell_type": "code",
   "execution_count": 30,
   "metadata": {},
   "outputs": [
    {
     "name": "stdout",
     "output_type": "stream",
     "text": [
      "Testing Bubble Sort:\n",
      "Original List: [64, 34, 25, 12, 22, 11, 90]\n",
      "Sorted List: [11, 12, 22, 25, 34, 64, 90]\n",
      "\n"
     ]
    }
   ],
   "source": [
    "print(\"Testing Bubble Sort:\")\n",
    "run_tests(bubble_sort)"
   ]
  },
  {
   "cell_type": "markdown",
   "metadata": {},
   "source": [
    "## **Selection Sort**"
   ]
  },
  {
   "cell_type": "markdown",
   "metadata": {},
   "source": [
    "Selection Sort is a comparison-based sorting algorithm that sorts an array by repeatedly selecting the minimum element from the unsorted part of the array and moving it to the beginning.\n",
    "\n",
    "### **How It Works**\n",
    "\n",
    "1. **Finding the Minimum:** Select the minimum element in the array.\n",
    "2. **Swapping:** Swap the found minimum element with the first element.\n",
    "3. **Iterating:** Move the boundary of the unsorted part one element to the right, and repeat steps 1-2 until the array is sorted.\n",
    "\n",
    "### **Example**\n",
    "\n",
    "Consider sorting the list `[64, 25, 12, 22, 11]`. Here's how Selection Sort will sort it:\n",
    "\n",
    "1. `[11, 25, 12, 22, 64]` - Swap 11 and 64\n",
    "2. `[11, 12, 25, 22, 64]` - Swap 12 and 25\n",
    "3. `[11, 12, 22, 25, 64]` - Swap 22 and 25\n",
    "4. `[11, 12, 22, 25, 64]` - No swap needed, as the last two elements are already sorted\n",
    "\n",
    "### **Mathematical Explanation**\n",
    "\n",
    "The key operation of Selection Sort is the comparison of elements to find the minimum. This operation is performed $O(n)$ times in each pass, and there are $O(n)$ passes in total, making for a total of $O(n^2)$ comparisons.\n",
    "\n",
    "### **Complexity Analysis**\n",
    "\n",
    "- **Time Complexity:**\n",
    "    - **Worst-Case:** $O(n^2)$\n",
    "    - **Average-Case:** $O(n^2)$\n",
    "    - **Best-Case:** $O(n^2)$ since even if the list is sorted, the algorithm will still perform all the comparisons.\n",
    "- **Space Complexity:** $O(1)$, as Selection Sort only requires a constant amount of additional space.\n",
    "\n",
    "### **Conclusion**\n",
    "\n",
    "Selection Sort is simple to understand and code but, like Bubble Sort, is inefficient on large lists, and generally performs worse than similar algorithms like Insertion Sort. Its main advantage is that it performs a minimal number of swaps, making it useful in situations where swapping is particularly expensive."
   ]
  },
  {
   "cell_type": "code",
   "execution_count": 31,
   "metadata": {},
   "outputs": [],
   "source": [
    "def selection_sort(arr: List[int]) -> List[int]:\n",
    "    for i in range(len(arr)):\n",
    "        min_idx: int = i\n",
    "        for j in range(i + 1, len(arr)):\n",
    "            if arr[min_idx] > arr[j]:\n",
    "                min_idx = j\n",
    "        arr[i], arr[min_idx] = arr[min_idx], arr[i]\n",
    "    return arr\n"
   ]
  },
  {
   "cell_type": "code",
   "execution_count": 32,
   "metadata": {},
   "outputs": [
    {
     "name": "stdout",
     "output_type": "stream",
     "text": [
      "Testing Selection Sort:\n",
      "Original List: [64, 34, 25, 12, 22, 11, 90]\n",
      "Sorted List: [11, 12, 22, 25, 34, 64, 90]\n",
      "\n"
     ]
    }
   ],
   "source": [
    "print(\"Testing Selection Sort:\")\n",
    "run_tests(selection_sort)"
   ]
  },
  {
   "cell_type": "markdown",
   "metadata": {},
   "source": [
    "## **Insertion Sort**"
   ]
  },
  {
   "cell_type": "markdown",
   "metadata": {},
   "source": [
    "Insertion Sort is a simple comparison-based sorting algorithm that builds the final sorted array one item at a time. It is much less efficient on large lists than more advanced algorithms such as Quick Sort, Heap Sort, or Merge Sort.\n",
    "\n",
    "### **How It Works**\n",
    "\n",
    "1. **Iteration:** Start from the second element (considering the first element as sorted).\n",
    "2. **Selection:** Select the current element and compare it with the previous elements.\n",
    "3. **Insertion:** Move all the elements greater than the current element up by one position to make space for the current element, and then insert the current element into its correct position.\n",
    "4. **Repeating:** Repeat the process for each of the elements in the list.\n",
    "\n",
    "### **Example**\n",
    "\n",
    "Consider sorting the list `[12, 11, 13, 5, 6]`. Here's how Insertion Sort will sort it:\n",
    "\n",
    "1. `[12, 11, 13, 5, 6]` - 11 is compared with 12, and they are swapped.\n",
    "2. `[11, 12, 13, 5, 6]` - 13 is in the correct place.\n",
    "3. `[5, 11, 12, 13, 6]` - 5 is moved to the first position.\n",
    "4. `[5, 6, 11, 12, 13]` - 6 is moved to the second position.\n",
    "\n",
    "### **Mathematical Explanation**\n",
    "\n",
    "Insertion Sort involves $n-1$ passes, and for each pass, the number of comparisons and movements can vary from 0 to $n-1$, depending on the existing order of the elements. Therefore, the total number of operations can be expressed as an arithmetic progression leading to the time complexity analysis.\n",
    "\n",
    "### **Complexity Analysis**\n",
    "\n",
    "- **Time Complexity:**\n",
    "    - **Worst-Case:** $O(n^2)$, when the array is sorted in reverse order.\n",
    "    - **Average-Case:** $O(n^2)$, for randomly ordered data.\n",
    "    - **Best-Case:** $O(n)$, when the array is already sorted, as only $n-1$ comparisons are needed, and no swaps.\n",
    "- **Space Complexity:** $O(1)$, as it only requires a single additional memory space.\n",
    "\n",
    "### **Conclusion**\n",
    "\n",
    "Insertion Sort is adaptive, meaning it becomes faster when the input is partially sorted. While it's not suitable for large datasets, it has the advantage of being stable (maintains the relative order of equal elements) and having a simple implementation. It can be useful for small datasets or as a final step in more advanced sorting algorithms."
   ]
  },
  {
   "cell_type": "code",
   "execution_count": 33,
   "metadata": {},
   "outputs": [],
   "source": [
    "def insertion_sort(arr: List[int]) -> List[int]:\n",
    "    for i in range(1, len(arr)):\n",
    "        key: int = arr[i]\n",
    "        j = i - 1\n",
    "        while j >= 0 and key < arr[j]:\n",
    "            arr[j + 1] = arr[j]\n",
    "            j -= 1\n",
    "        arr[j + 1] = key\n",
    "    return arr"
   ]
  },
  {
   "cell_type": "code",
   "execution_count": 34,
   "metadata": {},
   "outputs": [
    {
     "name": "stdout",
     "output_type": "stream",
     "text": [
      "Testing Insertion Sort:\n",
      "Original List: [64, 34, 25, 12, 22, 11, 90]\n",
      "Sorted List: [11, 12, 22, 25, 34, 64, 90]\n",
      "\n"
     ]
    }
   ],
   "source": [
    "print(\"Testing Insertion Sort:\")\n",
    "run_tests(insertion_sort)"
   ]
  },
  {
   "cell_type": "markdown",
   "metadata": {},
   "source": [
    "## **Merge Sort**"
   ]
  },
  {
   "cell_type": "markdown",
   "metadata": {},
   "source": [
    "Merge Sort is a divide-and-conquer sorting algorithm that recursively breaks down a list into sublists until each sublist consists of a single element and then merges those sublists to produce new sorted sublists until there is only one sorted list remaining.\n",
    "\n",
    "### **How It Works**\n",
    "\n",
    "1. **Dividing:** Recursively divide the unsorted list into $n$ sublists, each containing one element.\n",
    "2. **Conquering:** Repeatedly merge sublists to produce newly sorted sublists until there is only one sorted sublist remaining.\n",
    "\n",
    "### **Example**\n",
    "\n",
    "Consider sorting the list `[38, 27, 43, 3, 9, 82, 10]`. Here's how Merge Sort will sort it:\n",
    "\n",
    "1. Divide into `[38], [27], [43], [3], [9], [82], [10]`\n",
    "2. Merge into `[27, 38], [3, 43], [9, 82], [10]`\n",
    "3. Merge into `[3, 27, 38, 43], [9, 10, 82]`\n",
    "4. Merge into `[3, 9, 10, 27, 38, 43, 82]`\n",
    "\n",
    "### **Mathematical Explanation**\n",
    "\n",
    "The division step takes $ O(\\log n) $ time as the list is divided into two halves until there's only one element left. The merge step takes $ O(n) $ time as it has to look at every item. Since both steps are performed together, the total time complexity is $ O(n \\log n) $.\n",
    "\n",
    "### **Complexity Analysis**\n",
    "\n",
    "- **Time Complexity:**\n",
    "    - **Worst-Case:** $ O(n \\log n) $\n",
    "    - **Average-Case:** $ O(n \\log n) $\n",
    "    - **Best-Case:** $ O(n \\log n) $\n",
    "- **Space Complexity:** $ O(n) $, as Merge Sort requires a temporary array equal to the size of the original input.\n",
    "\n",
    "### **Conclusion**\n",
    "\n",
    "Merge Sort is a very consistent sorting algorithm, guaranteeing $ O(n \\log n) $ performance regardless of the initial distribution of the input. Its main disadvantage is its $ O(n) $ space complexity, which can be a limitation if memory is a concern. It's a stable sort, meaning that it preserves the relative order of equal elements, and is often used in practice, especially for linked lists and large arrays where its consistent performance is valuable."
   ]
  },
  {
   "cell_type": "code",
   "execution_count": 35,
   "metadata": {},
   "outputs": [],
   "source": [
    "def merge_sort(arr: List[int]) -> List[int]:\n",
    "    if len(arr) <= 1:\n",
    "        return arr\n",
    "    mid: int = len(arr) // 2\n",
    "    left: List[int] = merge_sort(arr[:mid])\n",
    "    right: List[int] = merge_sort(arr[mid:])\n",
    "\n",
    "    return merge(left, right)\n",
    "\n",
    "def merge(left: List[int], right: List[int]) -> List[int]:\n",
    "    result: List[int] = []\n",
    "    i = j = 0\n",
    "    while i < len(left) and j < len(right):\n",
    "        if left[i] < right[j]:\n",
    "            result.append(left[i])\n",
    "            i += 1\n",
    "        else:\n",
    "            result.append(right[j])\n",
    "            j += 1\n",
    "    result += left[i:]\n",
    "    result += right[j:]\n",
    "    return result\n"
   ]
  },
  {
   "cell_type": "code",
   "execution_count": 36,
   "metadata": {},
   "outputs": [
    {
     "name": "stdout",
     "output_type": "stream",
     "text": [
      "Testing Merge Sort:\n",
      "Original List: [64, 34, 25, 12, 22, 11, 90]\n",
      "Sorted List: [11, 12, 22, 25, 34, 64, 90]\n",
      "\n"
     ]
    }
   ],
   "source": [
    "print(\"Testing Merge Sort:\")\n",
    "run_tests(merge_sort)"
   ]
  },
  {
   "cell_type": "markdown",
   "metadata": {},
   "source": [
    "## **Quick Sort**"
   ]
  },
  {
   "cell_type": "markdown",
   "metadata": {},
   "source": [
    "Quick Sort is a divide-and-conquer sorting algorithm that works by selecting a 'pivot' element from the array and partitioning the other elements into two subarrays according to whether they are less than or greater than the pivot. The subarrays are then sorted recursively.\n",
    "\n",
    "### **How It Works**\n",
    "\n",
    "1. **Choosing a Pivot:** Select a 'pivot' element from the array. The choice of pivot selection can greatly affect the algorithm's performance.\n",
    "2. **Partitioning:** Partition the other elements into two subarrays, according to whether they are less than or greater than the pivot.\n",
    "3. **Recursion:** Recursively apply the above steps to the two subarrays.\n",
    "4. **Combining:** Join the subarrays back together.\n",
    "\n",
    "### **Example**\n",
    "\n",
    "Consider sorting the list `[3, 6, 8, 10, 1, 2, 1]`. If we pick 6 as the pivot, here's how Quick Sort will sort it:\n",
    "\n",
    "1. Partition into `[3, 1, 2, 1], [6], [8, 10]`\n",
    "2. Recursively sort the subarrays\n",
    "3. Combine into `[1, 1, 2, 3, 6, 8, 10]`\n",
    "\n",
    "### **Mathematical Explanation**\n",
    "\n",
    "The time complexity of Quick Sort depends heavily on the pivot selection strategy:\n",
    "\n",
    "- The best case occurs when the pivot is always the median, and the list is divided into two equal parts, leading to a time complexity of $O(n \\log n)$.\n",
    "- The worst case occurs when the pivot is always the smallest (or largest) element, leading to unbalanced partitions and a time complexity of $O(n^2)$.\n",
    "\n",
    "### **Complexity Analysis**\n",
    "\n",
    "- **Time Complexity:**\n",
    "    - **Worst-Case:** $O(n^2)$, typically when the pivot is consistently poor (e.g., already sorted or reverse sorted array).\n",
    "    - **Average-Case:** $O(n \\log n)$, for most real-world data.\n",
    "    - **Best-Case:** $O(n \\log n)$, when the pivot consistently splits the array evenly.\n",
    "- **Space Complexity:** $O(\\log n)$ due to the stack space required for recursion (in-place partitioning).\n",
    "\n",
    "### **Conclusion**\n",
    "\n",
    "Quick Sort is often faster in practice than other $O(n \\log n)$ algorithms such as Merge Sort, especially for built-in types like integers and pointers. However, its performance can degrade to $O(n^2)$ if the pivot values are consistently poorly chosen. The choice of the pivot selection strategy can greatly affect the algorithm's efficiency, with more sophisticated methods often leading to more consistent performance. It's not a stable sort, so equal elements may change their relative order during the sort."
   ]
  },
  {
   "cell_type": "code",
   "execution_count": 37,
   "metadata": {},
   "outputs": [],
   "source": [
    "def quick_sort(arr: List[int]) -> List[int]:\n",
    "    if len(arr) <= 1:\n",
    "        return arr\n",
    "    pivot: int = arr[len(arr) // 2]\n",
    "    left: List[int] = [x for x in arr if x < pivot]\n",
    "    middle: List[int] = [x for x in arr if x == pivot]\n",
    "    right: List[int] = [x for x in arr if x > pivot]\n",
    "    return quick_sort(left) + middle + quick_sort(right)\n"
   ]
  },
  {
   "cell_type": "code",
   "execution_count": 38,
   "metadata": {},
   "outputs": [
    {
     "name": "stdout",
     "output_type": "stream",
     "text": [
      "Testing Quick Sort:\n",
      "Original List: [64, 34, 25, 12, 22, 11, 90]\n",
      "Sorted List: [11, 12, 22, 25, 34, 64, 90]\n",
      "\n"
     ]
    }
   ],
   "source": [
    "print(\"Testing Quick Sort:\")\n",
    "run_tests(quick_sort)"
   ]
  },
  {
   "cell_type": "markdown",
   "metadata": {},
   "source": [
    "## **Heap Sort**"
   ]
  },
  {
   "cell_type": "markdown",
   "metadata": {},
   "source": [
    "Heap Sort is a comparison-based sorting algorithm that leverages the heap data structure, a specialized binary tree with particular properties. It's one of the few in-place sorting algorithms with a worst-case time of $O(n \\log n)$, making it one of the most efficient sorting algorithms in typical situations.\n",
    "\n",
    "### **How It Works**\n",
    "\n",
    "1. **Building a Heap:** Convert the original array into a max-heap, a binary tree where the parent node is greater than or equal to its children.\n",
    "2. **Extracting Elements:** Repeatedly remove the largest element (root of the heap) and insert it at the end of the array.\n",
    "3. **Heapify:** After removing the largest element, rebuild the heap.\n",
    "4. **Repeat:** Repeat steps 2 and 3 until the heap contains only one element.\n",
    "\n",
    "### **Example**\n",
    "\n",
    "Consider sorting the list `[3, 19, 1, 14, 8, 7]`. Here's how Heap Sort will sort it:\n",
    "\n",
    "1. Build a max-heap: `[19, 14, 7, 3, 8, 1]`\n",
    "2. Swap the root with the last element and heapify: `[14, 8, 7, 3, 1, 19]`\n",
    "3. Repeat the process: `[8, 3, 7, 1, 14, 19]`\n",
    "4. Continue until sorted: `[1, 3, 7, 8, 14, 19]`\n",
    "\n",
    "### **Mathematical Explanation**\n",
    "\n",
    "The key to Heap Sort's efficiency is in the heapify operation, which can be done in $O(\\log n)$ time. Building the initial heap takes $O(n)$ time, and each of the $n$ extractions takes $O(\\log n)$ time, leading to an overall time complexity of $O(n \\log n)$.\n",
    "\n",
    "### **Complexity Analysis**\n",
    "\n",
    "- **Time Complexity:**\n",
    "    - **Worst-Case:** $O(n \\log n)$\n",
    "    - **Average-Case:** $O(n \\log n)$\n",
    "    - **Best-Case:** $O(n \\log n)$ - no best-case scenario as the building of the heap is necessary for every given input.\n",
    "- **Space Complexity:** $O(1)$ - Since Heap Sort is an in-place sorting algorithm, it does not require additional storage.\n",
    "\n",
    "### **Conclusion**\n",
    "\n",
    "Heap Sort is a robust and efficient sorting algorithm suitable for large datasets. It has consistent $O(n \\log n)$ time complexity, but it's not stable, meaning that equal elements may change their relative order during the sort. While often outperformed by Quick Sort on typical data sets, Heap Sort has the advantage of a worst-case time complexity that's as good as its average-case complexity, providing performance guarantees that Quick Sort can't match without additional modifications."
   ]
  },
  {
   "cell_type": "code",
   "execution_count": 39,
   "metadata": {},
   "outputs": [],
   "source": [
    "def heap_sort(arr: List[int]) -> List[int]:\n",
    "    heapq.heapify(arr)\n",
    "    return [heapq.heappop(arr) for _ in range(len(arr))]"
   ]
  },
  {
   "cell_type": "code",
   "execution_count": 40,
   "metadata": {},
   "outputs": [
    {
     "name": "stdout",
     "output_type": "stream",
     "text": [
      "Testing Heap Sort:\n",
      "Original List: [64, 34, 25, 12, 22, 11, 90]\n",
      "Sorted List: [11, 12, 22, 25, 34, 64, 90]\n",
      "\n"
     ]
    }
   ],
   "source": [
    "print(\"Testing Heap Sort:\")\n",
    "run_tests(heap_sort)"
   ]
  },
  {
   "cell_type": "markdown",
   "metadata": {},
   "source": [
    "## **Counting Sort**"
   ]
  },
  {
   "cell_type": "markdown",
   "metadata": {},
   "source": [
    "Counting Sort is a non-comparison-based integer sorting algorithm. Unlike other sorting algorithms that compare elements, Counting Sort counts the number of distinct elements and uses arithmetic to place each number in its correct position in the output array. This method is applicable to integers within a specific range.\n",
    "\n",
    "### **How It Works**\n",
    "\n",
    "1. **Finding the Range:** Determine the maximum value in the input array to understand the range of input values.\n",
    "2. **Counting Occurrences:** Count the occurrences of each number within the input array using an auxiliary counting array.\n",
    "3. **Calculating Cumulative Counts:** Transform the count array such that each element at each index stores the sum of the previous counts.\n",
    "4. **Building the Sorted Array:** Using the count array, place the elements from the input array into their correct positions in the output array.\n",
    "5. **Copying to Original:** Copy the sorted elements from the output array to the original array.\n",
    "\n",
    "### **Example**\n",
    "\n",
    "Consider sorting the list `[4, 2, 2, 8, 3, 3, 1]`. Here's how Counting Sort will sort it:\n",
    "\n",
    "1. Maximum value is 8, so count array size is 9: `[0, 1, 2, 2, 1, 0, 0, 0, 1]`\n",
    "2. Cumulative counts: `[0, 1, 3, 5, 6, 6, 6, 6, 7]`\n",
    "3. Place elements in sorted array using cumulative counts.\n",
    "4. Sorted array: `[1, 2, 2, 3, 3, 4, 8]`\n",
    "\n",
    "### **Mathematical Explanation**\n",
    "\n",
    "The algorithm divides its input into a fixed number of categories, corresponding to the range of input values. It then counts the number of items falling into each category.\n",
    "\n",
    "### **Complexity Analysis**\n",
    "\n",
    "- **Time Complexity:**\n",
    "    - **Worst-Case:** $O(n + k$\n",
    "    - **Average-Case:** $O(n + k)$\n",
    "    - **Best-Case:** $O(n + k)$, where $n$ is the number of elements in the input array, and $k$ is the range of the input.\n",
    "- **Space Complexity:** $O(n + k)$ where $n$ is the size of the array, and $k$ is the range of input values.\n",
    "\n",
    "### **Conclusion**\n",
    "\n",
    "Counting Sort is a very efficient algorithm when the range of potential items $k$ is reasonably small compared to the number of items $n$. It's stable, which means that the relative order of equal elements will be preserved, and it's one of the few algorithms that can achieve better-than-$O(n \\log n)$ performance in suitable situations. However, it's not suitable for sorting arrays of numbers that have a significant range (where $k$ is much larger than $n$ as it requires space proportional to that range."
   ]
  },
  {
   "cell_type": "code",
   "execution_count": 41,
   "metadata": {},
   "outputs": [],
   "source": [
    "def counting_sort(arr: List[int]) -> List[int]:\n",
    "    if not arr:\n",
    "        return arr\n",
    "    max_val: int = max(arr)\n",
    "    count: List[int] = [0] * (max_val + 1)\n",
    "    output: List[int] = [0] * len(arr)\n",
    "\n",
    "    for num in arr:\n",
    "        count[num] += 1\n",
    "\n",
    "    for i in range(1, len(count)):\n",
    "        count[i] += count[i - 1]\n",
    "\n",
    "    for i in range(len(arr) - 1, -1, -1):\n",
    "        output[count[arr[i]] - 1] = arr[i]\n",
    "        count[arr[i]] -= 1\n",
    "\n",
    "    return output\n"
   ]
  },
  {
   "cell_type": "code",
   "execution_count": 42,
   "metadata": {},
   "outputs": [
    {
     "name": "stdout",
     "output_type": "stream",
     "text": [
      "Testing Counting Sort:\n",
      "Original List: [64, 34, 25, 12, 22, 11, 90]\n",
      "Sorted List: [11, 12, 22, 25, 34, 64, 90]\n",
      "\n"
     ]
    }
   ],
   "source": [
    "print(\"Testing Counting Sort:\")\n",
    "run_tests(counting_sort)"
   ]
  },
  {
   "cell_type": "markdown",
   "metadata": {},
   "source": [
    "## **Radix Sort**"
   ]
  },
  {
   "cell_type": "markdown",
   "metadata": {},
   "source": [
    "Radix Sort is a non-comparative integer sorting algorithm. Unlike other sorting algorithms that use comparisons, Radix Sort distributes the numbers based on each digit, one digit at a time, from the least significant to the most significant. This method requires that the integers are represented in the same numeral system, typically the decimal system.\n",
    "\n",
    "### **How It Works**\n",
    "\n",
    "1. **Finding the Maximum Digit Length:** Determine the number of digits in the largest number in the input array.\n",
    "2. **Sorting by Individual Digits:** Sort the numbers based on each digit, starting from the least significant digit (LSD) and moving towards the most significant digit (MSD).\n",
    "3. **Distributing into Buckets:** For each digit place, distribute the numbers into buckets according to the value of that digit.\n",
    "4. **Collecting from Buckets:** Collect the numbers back into the array, maintaining the order within each bucket.\n",
    "5. **Repeating for Each Digit:** Repeat steps 3-4 for each digit place until the numbers are sorted.\n",
    "\n",
    "### **Example**\n",
    "\n",
    "Consider sorting the list `[170, 45, 75, 90, 802, 24, 2, 66]`. Here's how Radix Sort will sort it:\n",
    "\n",
    "1. Maximum number of digits is 3.\n",
    "2. Sorting by LSD (units place): `[170, 90, 802, 2, 24, 45, 75, 66]`\n",
    "3. Sorting by next digit (tens place): `[802, 2, 24, 45, 66, 170, 75, 90]`\n",
    "4. Sorting by MSD (hundreds place): `[2, 24, 45, 66, 75, 90, 170, 802]`\n",
    "\n",
    "### **Mathematical Explanation**\n",
    "\n",
    "Radix Sort distributes the input into buckets and then collects the items from the buckets. This process is repeated once for each digit in the longest number, so if the longest number has $d$ digits, the distribution and collection process must be repeated $d$ times.\n",
    "\n",
    "### **Complexity Analysis**\n",
    "\n",
    "- **Time Complexity:**\n",
    "    - **Worst-Case:** $O(d \\cdot (n + k))$\n",
    "    - **Average-Case:** $O(d \\cdot (n + k))$\n",
    "    - **Best-Case:** $O(d \\cdot (n + k))$ where $n$ is the number of elements, $k$ is the range of digits (usually 10 for decimal numbers), and $d$ is the number of digits in the largest number.\n",
    "- **Space Complexity:** $O(n + k)$\n",
    "\n",
    "### **Conclusion**\n",
    "\n",
    "Radix Sort can be a highly efficient sorting algorithm for integers or strings of the same length, especially when $d$ (the number of digits in the largest number) is small relative to $n$ (the number of items). It is stable, which ensures that the relative order of equal elements will remain the same. However, Radix Sort is not suitable for numbers that may have vastly differing numbers of digits or are represented in floating-point format, and its efficiency can be less appealing when the largest number has many more digits than the average number in the array."
   ]
  },
  {
   "cell_type": "code",
   "execution_count": 43,
   "metadata": {},
   "outputs": [],
   "source": [
    "def radix_sort(arr: List[int]) -> List[int]:\n",
    "    if not arr:\n",
    "        return arr\n",
    "    max_val: int = max(arr)\n",
    "    exp: int = 1\n",
    "    n: int = len(arr)\n",
    "    output: List[int] = [0] * n\n",
    "\n",
    "    while max_val // exp > 0:\n",
    "        counting_sort_exp(arr, exp, output)\n",
    "        arr = output.copy()\n",
    "        exp *= 10\n",
    "    return arr\n",
    "\n",
    "\n",
    "def counting_sort_exp(arr: List[int], exp: int, output: List[int]):\n",
    "    n: int = len(arr)\n",
    "    count: List[int] = [0] * 10\n",
    "\n",
    "    for i in range(n):\n",
    "        index = arr[i] // exp\n",
    "        count[index % 10] += 1\n",
    "\n",
    "    for i in range(1, 10):\n",
    "        count[i] += count[i - 1]\n",
    "\n",
    "    for i in range(n - 1, -1, -1):\n",
    "        index = arr[i] // exp\n",
    "        output[count[index % 10] - 1] = arr[i]\n",
    "        count[index % 10] -= 1"
   ]
  },
  {
   "cell_type": "code",
   "execution_count": 44,
   "metadata": {},
   "outputs": [
    {
     "name": "stdout",
     "output_type": "stream",
     "text": [
      "Testing Radix Sort:\n",
      "Original List: [64, 34, 25, 12, 22, 11, 90]\n",
      "Sorted List: [11, 12, 22, 25, 34, 64, 90]\n",
      "\n"
     ]
    }
   ],
   "source": [
    "print(\"Testing Radix Sort:\")\n",
    "run_tests(radix_sort)"
   ]
  },
  {
   "cell_type": "markdown",
   "metadata": {},
   "source": [
    "## **Bucket Sort**"
   ]
  },
  {
   "cell_type": "markdown",
   "metadata": {},
   "source": [
    "Bucket Sort is a distribution sorting algorithm that distributes the elements of an array into a number of buckets and then uses another sorting method to sort the elements within each bucket. It works by dividing the value range into $n$ buckets and then distributing the $n$ input items into the appropriate bucket. After that, the contents of the buckets are sorted, usually by a different sorting algorithm, and then gathered into a sorted array.\n",
    "\n",
    "### **How It Works**\n",
    "\n",
    "1. **Create Buckets:** Divide the value range into $n$ equally spaced subranges or \"buckets.\"\n",
    "2. **Distribute Elements:** Scan the input array, placing each element into its corresponding bucket.\n",
    "3. **Sort Individual Buckets:** Sort the contents of each non-empty bucket. A different sorting algorithm (like Insertion Sort) can be used for this.\n",
    "4. **Concatenate Buckets:** Concatenate the contents of the buckets in order to obtain the sorted array.\n",
    "\n",
    "### **Example**\n",
    "\n",
    "Consider sorting the list `[29, 25, 3, 49, 9, 37, 21, 43]`. Here's how Bucket Sort will sort it:\n",
    "\n",
    "1. Create 5 buckets.\n",
    "2. Distribute: \n",
    "    - Bucket 1: `[3, 9]`\n",
    "    - Bucket 2: `[25, 21]`\n",
    "    - Bucket 3: `[29]`\n",
    "    - Bucket 4: `[49, 37, 43]`\n",
    "    - Bucket 5: `[]`\n",
    "3. Sort each bucket:\n",
    "    - Bucket 1: `[3, 9]`\n",
    "    - Bucket 2: `[21, 25]`\n",
    "    - Bucket 3: `[29]`\n",
    "    - Bucket 4: `[37, 43, 49]`\n",
    "4. Concatenate to get `[3, 9, 21, 25, 29, 37, 43, 49]`.\n",
    "\n",
    "### **Mathematical Explanation**\n",
    "\n",
    "The time complexity depends on the distribution of the elements and the sorting algorithm used to sort the individual buckets. If the elements are uniformly distributed, then each bucket will contain $ \\frac{n}{k} $ elements, where $ k $ is the number of buckets.\n",
    "\n",
    "### **Complexity Analysis**\n",
    "\n",
    "- **Time Complexity:**\n",
    "    - **Worst-Case:** $O(n^2)$ when all elements end up in the same bucket.\n",
    "    - **Average-Case:** $O(n + k)$ for uniformly distributed elements.\n",
    "    - **Best-Case:** $O(n + k)$ when each bucket has roughly the same number of elements.\n",
    "- **Space Complexity:** $O(n + k)$ where $n$ is the number of elements in the array, and $k$ is the number of buckets.\n",
    "\n",
    "### **Conclusion**\n",
    "\n",
    "Bucket Sort works well when the input is uniformly distributed over a range. It is often used as a subroutine in Radix Sort. It can be quite efficient for data that can be evenly distributed into buckets, but its performance can degrade if this is not the case, particularly if one or more buckets end up containing a majority of the elements. Its space complexity is also a consideration, as the algorithm must allocate space for the buckets in addition to the input array."
   ]
  },
  {
   "cell_type": "code",
   "execution_count": 45,
   "metadata": {},
   "outputs": [],
   "source": [
    "def bucket_sort(arr: List[int]) -> List[int]:\n",
    "    if len(arr) == 0:\n",
    "        return arr\n",
    "\n",
    "    min_val, max_val = min(arr), max(arr)\n",
    "    bucket_range: float = (max_val - min_val) / len(arr)\n",
    "    buckets: List[int] = [[] for _ in range(len(arr) + 1)]\n",
    "\n",
    "    for num in arr:\n",
    "        index: int = int((num - min_val) / bucket_range)\n",
    "        buckets[index].append(num)\n",
    "\n",
    "    sorted_arr: List[int] = []\n",
    "    for bucket in buckets:\n",
    "        sorted_arr += sorted(bucket)\n",
    "\n",
    "    return sorted_arr\n"
   ]
  },
  {
   "cell_type": "code",
   "execution_count": 46,
   "metadata": {},
   "outputs": [
    {
     "name": "stdout",
     "output_type": "stream",
     "text": [
      "Testing Bucket Sort:\n",
      "Original List: [64, 34, 25, 12, 22, 11, 90]\n",
      "Sorted List: [11, 12, 22, 25, 34, 64, 90]\n",
      "\n"
     ]
    }
   ],
   "source": [
    "print(\"Testing Bucket Sort:\")\n",
    "run_tests(bubble_sort)"
   ]
  },
  {
   "cell_type": "markdown",
   "metadata": {},
   "source": [
    "## **Comparing Sorting Algorithms**"
   ]
  },
  {
   "cell_type": "markdown",
   "metadata": {},
   "source": [
    "### **Advantages and Disadvantages**\n",
    "\n",
    "1. **Bubble Sort**\n",
    "   - Advantages:\n",
    "     - Simple to understand and implement.\n",
    "     - In-place sorting (only requires a small auxiliary space).\n",
    "   - Disadvantages:\n",
    "     - Poor performance on large lists.\n",
    "     - Not suitable for practical applications with large datasets.\n",
    "\n",
    "2. **Selection Sort**\n",
    "   - Advantages:\n",
    "     - Simple and easy to implement.\n",
    "     - Performs well on small lists.\n",
    "   - Disadvantages:\n",
    "     - Inefficient on large lists.\n",
    "     - Not adaptive, performance is poor even if the list is partially sorted.\n",
    "\n",
    "3. **Insertion Sort**\n",
    "   - Advantages:\n",
    "     - Simple implementation.\n",
    "     - Efficient for small data sets and nearly sorted lists.\n",
    "   - Disadvantages:\n",
    "     - Quadratic time complexity makes it inefficient for large datasets.\n",
    "\n",
    "4. **Merge Sort**\n",
    "   - Advantages:\n",
    "     - Stable sort.\n",
    "     - Predictable time complexity.\n",
    "   - Disadvantages:\n",
    "     - Uses extra space.\n",
    "     - Slower than the more advanced algorithms in some cases.\n",
    "\n",
    "5. **Quick Sort**\n",
    "   - Advantages:\n",
    "     - Fast for large datasets.\n",
    "     - In-place sort.\n",
    "   - Disadvantages:\n",
    "     - Worst-case time complexity can be quadratic.\n",
    "     - Unstable sort.\n",
    "\n",
    "6. **Heap Sort**\n",
    "   - Advantages:\n",
    "     - In-place sort.\n",
    "     - Time complexity is guaranteed to be $O(n \\log n)$.\n",
    "   - Disadvantages:\n",
    "     - Slower in practice on small data.\n",
    "     - Unstable sort.\n",
    "\n",
    "7. **Counting Sort**\n",
    "   - Advantages:\n",
    "     - Fast when the range of input values (k) is not significantly larger than the number of values (n).\n",
    "     - Stable sort.\n",
    "   - Disadvantages:\n",
    "     - Space complexity can be high.\n",
    "     - Not suitable for negative numbers or floating-point values.\n",
    "\n",
    "8. **Radix Sort**\n",
    "   - Advantages:\n",
    "     - Fast for numbers with lots of digits.\n",
    "     - Stable sort.\n",
    "   - Disadvantages:\n",
    "     - Performance depends on the number of digits.\n",
    "     - Uses extra space.\n",
    "\n",
    "9. **Bucket Sort**\n",
    "   - Advantages:\n",
    "     - Can be very fast when the input is uniformly distributed.\n",
    "     - Can utilize other sorting methods internally.\n",
    "   - Disadvantages:\n",
    "     - Performance drops when the distribution is not uniform.\n",
    "     - Requires extra space for buckets.\n",
    "\n",
    "### **Table Comparing Complexities**\n",
    "\n",
    "| Algorithm       | Best Case       | Average Case    | Worst Case      |\n",
    "|-----------------|-----------------|-----------------|-----------------|\n",
    "| Bubble Sort     | $O(n)$        | $O(n^2)$      | $O(n^2)$      |\n",
    "| Selection Sort  | $O(n^2)$      | $O(n^2)$      | $O(n^2)$      |\n",
    "| Insertion Sort  | $O(n)$        | $O(n^2)$      | $O(n^2)$      |\n",
    "| Merge Sort      | $O(n \\log n)$ | $O(n \\log n)$ | $O(n \\log n)$ |\n",
    "| Quick Sort      | $O(n \\log n)$ | $O(n \\log n)$ | $O(n^2)$      |\n",
    "| Heap Sort       | $O(n \\log n)$ | $O(n \\log n)$ | $O(n \\log n)$ |\n",
    "| Counting Sort   | $O(n + k)$     | $O(n + k)$    | $O(n + k)$    |\n",
    "| Radix Sort      | $O(d \\cdot (n + k))$ | $O(d \\cdot (n + k))$ | $O(d \\cdot (n + k))$ |\n",
    "| Bucket Sort     | $O(n + k)$     | $O(n + k)$    | $O(n^2)$      |\n",
    "\n",
    "Note: In the above table, $n$ is the number of items being sorted, $k$ is the range of the input, and $d$ is the number of digits in the largest number."
   ]
  },
  {
   "cell_type": "code",
   "execution_count": 47,
   "metadata": {},
   "outputs": [],
   "source": [
    "def compare_algorithms(algorithms: Dict[str, Callable[[List[int]], List[int]]], lists_to_sort: List[List[int]]) -> None:\n",
    "    for name, algorithm in algorithms.items():\n",
    "        times: List[float] = []\n",
    "        for lst in lists_to_sort:\n",
    "            # Time the sorting algorithm on this list and repeat it 10 times for accuracy\n",
    "            timer = timeit.Timer(lambda: algorithm(lst.copy()))\n",
    "            times.append(timer.timeit(number=10))\n",
    "        plt.plot([len(lst) for lst in lists_to_sort], times, label=name)\n",
    "\n",
    "    plt.xlabel('List Length')\n",
    "    plt.ylabel('Time (seconds)')\n",
    "    plt.legend()\n",
    "    plt.show()\n"
   ]
  },
  {
   "cell_type": "code",
   "execution_count": 48,
   "metadata": {},
   "outputs": [
    {
     "data": {
      "image/png": "[encoded data removed]",
      "text/plain": [
       "<Figure size 640x480 with 1 Axes>"
      ]
     },
     "metadata": {},
     "output_type": "display_data"
    }
   ],
   "source": [
    "algorithms = {\n",
    "    'Bubble Sort': bubble_sort,\n",
    "    'Selection Sort': selection_sort,\n",
    "    'Insertion Sort': insertion_sort,\n",
    "    'Merge Sort': merge_sort,\n",
    "    'Quick Sort': quick_sort,\n",
    "    'Heap Sort': heap_sort,\n",
    "    'Counting Sort': counting_sort,\n",
    "    'Radix Sort': radix_sort,\n",
    "    'Bucket Sort': bucket_sort\n",
    "}\n",
    "\n",
    "# Generating some random test cases of different sizes\n",
    "import random\n",
    "lists_to_sort = [random.sample(range(1000), k=i) for i in range(100, 1001, 100)]\n",
    "\n",
    "compare_algorithms(algorithms, lists_to_sort)"
   ]
  },
  {
   "cell_type": "markdown",
   "metadata": {},
   "source": [
    "# **Searching Algorithms**"
   ]
  },
  {
   "cell_type": "code",
   "execution_count": 15,
   "metadata": {},
   "outputs": [],
   "source": [
    "test_list: List[int] = [64, 34, 25, 12, 22, 11, 90]\n",
    "sorted_test_list: List[int] = sorted(test_list)\n",
    "\n",
    "def run_search_tests(search_algorithm: Callable[[List[int], int], int], is_sorted: bool = False) -> None:\n",
    "    test_value: int = 22  # Value we want to search for in the list\n",
    "    search_list: List[int] = sorted_test_list if is_sorted else test_list\n",
    "    \n",
    "    print(f\"List: {search_list}\\nSearching for {test_value}\")\n",
    "    index: int = search_algorithm(search_list, test_value)\n",
    "    \n",
    "    if index != -1:\n",
    "        print(f\"Value found at index: {index}\\n\")\n",
    "    else:\n",
    "        print(f\"Value not found in the list\\n\")"
   ]
  },
  {
   "cell_type": "markdown",
   "metadata": {},
   "source": [
    "## **Linear Search**"
   ]
  },
  {
   "cell_type": "markdown",
   "metadata": {},
   "source": [
    "Linear search is a straightforward method for finding a particular value within a list. It scans the list sequentially, checking each element until it finds the target value.\n",
    "\n",
    "### **How It Works**\n",
    "\n",
    "1. **Starting at the Beginning:** Begin at the first element of the list.\n",
    "2. **Checking Each Element:** Compare each element to the target value in sequence.\n",
    "3. **Found or Not Found:** If an element matches the target value, return the index of that element. If the end of the list is reached without finding the target, return that the value is not found.\n",
    "\n",
    "### **Example**\n",
    "\n",
    "Consider searching for the value `6` in the list `[5, 2, 9, 1, 5, 6]`. Here's how Linear Search will process it:\n",
    "\n",
    "1. Check 5 - not a match\n",
    "2. Check 2 - not a match\n",
    "3. Check 9 - not a match\n",
    "4. Check 1 - not a match\n",
    "5. Check 5 - not a match\n",
    "6. Check 6 - match found, return index `5`\n",
    "\n",
    "### **Mathematical Explanation**\n",
    "\n",
    "The key operation of Linear Search is the comparison between the target value and the current element in the list. This operation is performed $O(n)$ times in the worst case, where $n$ is the number of elements in the list.\n",
    "\n",
    "### **Complexity Analysis**\n",
    "\n",
    "- **Time Complexity:** \n",
    "    - **Worst-Case:** $O(n)$\n",
    "    - **Average-Case:** $O(n/2)$ on average, assuming the target is equally likely to be any element in the list.\n",
    "    - **Best-Case:** $O(1)$ if the target value is the first element.\n",
    "- **Space Complexity:** $O(1)$, as Linear Search only requires a constant amount of additional space.\n",
    "\n",
    "### **Conclusion**\n",
    "\n",
    "Linear Search is easy to understand, implement, and doesn't require the data to be sorted. However, its efficiency is less than optimal for large datasets, especially when compared to other search algorithms that take advantage of sorted data, such as Binary Search. For small data sets or unsorted data where more advanced algorithms can't be used, Linear Search is a reliable option."
   ]
  },
  {
   "cell_type": "code",
   "execution_count": 3,
   "metadata": {},
   "outputs": [],
   "source": [
    "def linear_search(arr: List[int], target: int) -> int:\n",
    "    for index, value in enumerate(arr):\n",
    "        if value == target:\n",
    "            return index\n",
    "    return -1"
   ]
  },
  {
   "cell_type": "code",
   "execution_count": null,
   "metadata": {},
   "outputs": [],
   "source": [
    "run_search_tests(linear_search, is_sorted=False)"
   ]
  },
  {
   "cell_type": "markdown",
   "metadata": {},
   "source": [
    "## **Binary Search**"
   ]
  },
  {
   "cell_type": "markdown",
   "metadata": {},
   "source": [
    "A Binary Search Tree (BST) is a hierarchical data structure in which each node has at most two children, known as the left child and the right child. A key property of a BST is that for any given node, the values in its left subtree are less than its value, and the values in its right subtree are greater.\n",
    "\n",
    "### **How It Works**\n",
    "\n",
    "1. **Start at the Root:** Begin the search at the root node of the tree.\n",
    "2. **Compare with Target:** Compare the current node's value with the target value.\n",
    "3. **Branch Decision:** If the target is less than the current node's value, search the left subtree. If greater, search the right subtree. If equal, the target has been found.\n",
    "4. **Repeating the Process:** Repeat steps 2-3 in the corresponding subtree until either the target is found or a leaf node is reached without finding the target.\n",
    "5. **Termination:** Return the node if found, or indicate that the value is not found if the search reaches a leaf node without a match.\n",
    "\n",
    "### **Example**\n",
    "\n",
    "Consider searching for the value `15` in a BST with the following nodes: `[20, 10, 30, 5, 15]`. The search proceeds as follows:\n",
    "\n",
    "1. Start at 20 - not a match, target is less, so go left\n",
    "2. Arrive at 10 - not a match, target is greater, so go right\n",
    "3. Arrive at 15 - match found, return the node\n",
    "\n",
    "### **Mathematical Explanation**\n",
    "\n",
    "The key operation of the Binary Search Tree is the comparison between the target value and the current node's value. Because the tree is binary, each comparison eliminates about half of the remaining nodes from consideration. The total number of comparisons in the worst case is therefore $O(\\log n)$, where $n$ is the number of nodes in the tree.\n",
    "\n",
    "### **Complexity Analysis**\n",
    "\n",
    "- **Time Complexity:**\n",
    "    - **Worst-Case:** $O(n)$ if the tree is unbalanced and degenerates into a linked list\n",
    "    - **Average-Case:** $O(\\log n)$ for a balanced tree\n",
    "    - **Best-Case:** $O(\\log n)$ for a balanced tree\n",
    "- **Space Complexity:** $O(1)$, as the search only requires a constant amount of additional space, not counting the space required for the tree itself.\n",
    "\n",
    "### **Conclusion**\n",
    "\n",
    "Binary Search Tree provides an efficient way to search for a value, particularly when the tree is balanced. It is generally more efficient than linear search but requires the data to adhere to the BST property. Care must be taken to maintain the tree's balance for consistent performance, as an unbalanced tree can degrade into a linear search in the worst case."
   ]
  },
  {
   "cell_type": "code",
   "execution_count": 4,
   "metadata": {},
   "outputs": [],
   "source": [
    "def binary_search(arr: List[int], target: int) -> int:\n",
    "    left, right = 0, len(arr) - 1\n",
    "    while left <= right:\n",
    "        mid = left + (right - left) // 2\n",
    "        if arr[mid] == target:\n",
    "            return mid\n",
    "        elif arr[mid] < target:\n",
    "            left = mid + 1\n",
    "        else:\n",
    "            right = mid - 1\n",
    "    return -1"
   ]
  },
  {
   "cell_type": "code",
   "execution_count": null,
   "metadata": {},
   "outputs": [],
   "source": [
    "run_search_tests(binary_search, is_sorted=True)"
   ]
  },
  {
   "cell_type": "markdown",
   "metadata": {},
   "source": [
    "## **Jump Search**"
   ]
  },
  {
   "cell_type": "markdown",
   "metadata": {},
   "source": [
    "Jump Search is a searching algorithm designed for ordered lists. The basic idea is to check fewer elements by jumping ahead fixed steps, then performing a linear search within the range where the element is expected to reside.\n",
    "\n",
    "### **How It Works**\n",
    "\n",
    "1. **Divide into Blocks:** Divide the sorted list into blocks of size $m$.\n",
    "2. **Jumping:** Jump $m$ steps at a time until a block containing a range of values greater than the target value is found.\n",
    "3. **Linear Search:** Perform a linear search within the previous block to find the target value.\n",
    "4. **Termination:** If the element is found, return its location; if not, return that the element is not in the list.\n",
    "\n",
    "### **Example**\n",
    "\n",
    "Consider searching for the value `55` in a sorted list: `[1, 4, 9, 16, 25, 36, 49, 64, 81]`, with a block size of 3.\n",
    "\n",
    "1. Jump to index 2 - value is 9, continue\n",
    "2. Jump to index 5 - value is 36, continue\n",
    "3. Jump to index 8 - value is 81, previous block start index is 6\n",
    "4. Linear search from index 6 to 8, find `55` at index 7\n",
    "\n",
    "### **Mathematical Explanation**\n",
    "\n",
    "The optimal size of the block to be jumped is $\\sqrt{n}$, where $n$ is the size of the list. Jumping back requires at most $\\sqrt{n}$ linear searches, and jumping ahead requires $\\sqrt{n}$ jumps for a total of $O(\\sqrt{n})$ operations.\n",
    "\n",
    "### **Complexity Analysis**\n",
    "\n",
    "- **Time Complexity:** \n",
    "    - **Worst-Case:** $O(\\sqrt{n})$\n",
    "    - **Average-Case:** $O(\\sqrt{n})$\n",
    "    - **Best-Case:** $O(1)$ if the first element is the target\n",
    "- **Space Complexity:** $O(1)$\n",
    "\n",
    "### **Conclusion**\n",
    "\n",
    "Jump Search is an effective algorithm for searching in sorted lists, particularly when direct access (such as random access in an array) is available. It's faster than a linear search but slower than a binary search. The advantage is that it doesn't require the list to support random access, so it can be used with sequential data structures like linked lists. It's a trade-off between speed and simplicity, often providing a reasonable middle ground in practice."
   ]
  },
  {
   "cell_type": "code",
   "execution_count": 16,
   "metadata": {},
   "outputs": [],
   "source": [
    "def jump_search(arr: List[int], target: int) -> int:\n",
    "    step = math.sqrt(len(arr))\n",
    "    prev = 0\n",
    "    \n",
    "    while arr[min(int(step), len(arr)) - 1] < target:\n",
    "        prev = step\n",
    "        step += math.sqrt(len(arr))\n",
    "        if prev >= len(arr):\n",
    "            return -1\n",
    "    \n",
    "    for i in range(int(prev), min(int(step), len(arr))):\n",
    "        if arr[i] == target:\n",
    "            return i\n",
    "    return -1\n"
   ]
  },
  {
   "cell_type": "code",
   "execution_count": 17,
   "metadata": {},
   "outputs": [
    {
     "name": "stdout",
     "output_type": "stream",
     "text": [
      "List: [11, 12, 22, 25, 34, 64, 90]\n",
      "Searching for 22\n",
      "Value found at index: 2\n",
      "\n"
     ]
    }
   ],
   "source": [
    "run_search_tests(jump_search, is_sorted=True)"
   ]
  },
  {
   "cell_type": "markdown",
   "metadata": {},
   "source": [
    "## **Interpolation Search**"
   ]
  },
  {
   "cell_type": "markdown",
   "metadata": {},
   "source": [
    "Interpolation Search is a searching algorithm that applies on uniformly distributed sorted lists. It's an improvement over Binary Search where the middle element is selected for comparison. Interpolation Search uses values of left, right, and the target value to find the position of the target.\n",
    "\n",
    "### **How It Works**\n",
    "\n",
    "1. **Calculate Position:** Determine the position of the target value using the formula:\n",
    "\n",
    "   $$\n",
    "   pos = left + \\frac{(target - arr[left]) \\times (right - left)}{arr[right] - arr[left]}\n",
    "   $$\n",
    "\n",
    "   where $arr$ is the array, $target$ is the value to find, and $left$ and $right$ are the boundary indices of the current sub-array.\n",
    "   \n",
    "2. **Check Position:** If the element at $pos$ is the target, return $pos$. If the target is less than the element at $pos$, update $right = pos - 1$. If the target is greater, update $left = pos + 1$.\n",
    "3. **Repeat:** Repeat steps 1-2 until the target is found or the boundaries overlap.\n",
    "4. **Termination:** If the element is found, return its location; if not, return that the element is not in the list.\n",
    "\n",
    "### **Example**\n",
    "\n",
    "Consider searching for the value `7` in a sorted list: `[1, 2, 3, 4, 5, 6, 7, 8, 9]`.\n",
    "\n",
    "1. Calculate pos as 6 - the value is 7\n",
    "2. Found at index 6\n",
    "\n",
    "### **Mathematical Explanation**\n",
    "\n",
    "The interpolation formula essentially estimates the position of the target value, assuming a uniform distribution. By probing the estimated position first, it can eliminate large portions of the search space, speeding up the search.\n",
    "\n",
    "### **Complexity Analysis**\n",
    "\n",
    "- **Time Complexity:** \n",
    "    - **Worst-Case:** $O(n)$ for non-uniformly distributed lists\n",
    "    - **Average-Case:** $O(\\log \\log n)$ for uniformly distributed lists\n",
    "    - **Best-Case:** $O(1)$ if the first element is the target\n",
    "- **Space Complexity:** $O(1)$\n",
    "\n",
    "### **Conclusion**\n",
    "\n",
    "Interpolation Search can be an extremely efficient algorithm for searching in uniformly distributed sorted lists. It's particularly useful when the data is not only sorted but also evenly distributed, as the algorithm leverages this property to jump directly closer to the target. If the data is not uniformly distributed, the performance can degrade to that of a linear search, so understanding the characteristics of the input data is essential when choosing this algorithm."
   ]
  },
  {
   "cell_type": "code",
   "execution_count": 6,
   "metadata": {},
   "outputs": [],
   "source": [
    "def interpolation_search(arr: List[int], target: int) -> int:\n",
    "    left, right = 0, len(arr) - 1\n",
    "    while left <= right and target >= arr[left] and target <= arr[right]:\n",
    "        if left == right:\n",
    "            if arr[left] == target:\n",
    "                return left\n",
    "            return -1\n",
    "\n",
    "        pos = left + ((target - arr[left]) * (right - left)) // (arr[right] - arr[left])\n",
    "        if arr[pos] == target:\n",
    "            return pos\n",
    "        if arr[pos] < target:\n",
    "            left = pos + 1\n",
    "        else:\n",
    "            right = pos - 1\n",
    "    return -1\n"
   ]
  },
  {
   "cell_type": "code",
   "execution_count": 18,
   "metadata": {},
   "outputs": [
    {
     "name": "stdout",
     "output_type": "stream",
     "text": [
      "List: [11, 12, 22, 25, 34, 64, 90]\n",
      "Searching for 22\n",
      "Value found at index: 2\n",
      "\n"
     ]
    }
   ],
   "source": [
    "run_search_tests(interpolation_search, is_sorted=True)"
   ]
  },
  {
   "cell_type": "markdown",
   "metadata": {},
   "source": [
    "## **Hash Table Lookup**"
   ]
  },
  {
   "cell_type": "markdown",
   "metadata": {},
   "source": [
    "Hash Table Lookup is a technique used to quickly access an element in a collection, such as an array or a database. The key to its efficiency is the hash function, which takes an input (or \"key\") and returns a fixed-size string of bytes, usually a hash code. This code is then mapped to an index in the array, allowing for quick retrieval.\n",
    "\n",
    "### **How It Works**\n",
    "\n",
    "1. **Hashing:** When looking up a value by its key, the key is passed through a hash function, which converts it into a hash code.\n",
    "2. **Index Mapping:** The hash code is then used to calculate an index in the array. Often, the hash code is divided by the array size, and the remainder is used as the index.\n",
    "3. **Retrieve Value:** The value associated with the key is then accessed at the calculated index in the array.\n",
    "4. **Handling Collisions:** If two keys hash to the same index (a collision), additional steps must be taken to determine the correct value. Common collision resolution techniques include separate chaining (where each array index points to a linked list of keys that hash to that index) or open addressing (where alternate indices are probed until an open slot is found).\n",
    "\n",
    "### **Example**\n",
    "\n",
    "Consider a hash table with keys as names and values as phone numbers, and you want to find the phone number for \"John.\"\n",
    "\n",
    "1. Hash \"John\" to get hash code, e.g., 12345\n",
    "2. Calculate index, e.g., 12345 % 100 = 45\n",
    "3. Retrieve the phone number at index 45\n",
    "\n",
    "### **Mathematical Explanation**\n",
    "\n",
    "The hashing function's goal is to distribute the keys uniformly across the array. It needs to minimize collisions and efficiently resolve them when they occur.\n",
    "\n",
    "### **Complexity Analysis**\n",
    "\n",
    "- **Time Complexity:** \n",
    "    - **Average-Case:** $O(1)$\n",
    "    - **Worst-Case:** $O(n)$ if all keys collide and collision is handled with a linear structure like a linked list.\n",
    "- **Space Complexity:** $O(n)$ for storing n key-value pairs\n",
    "\n",
    "### **Conclusion**\n",
    "\n",
    "Hash table lookup is generally very fast, with an average time complexity of $O(1)$. However, the worst-case time complexity can degrade to $O(n)$ if the hash function does not distribute the keys uniformly, leading to many collisions. Therefore, the choice and implementation of the hash function are crucial for maintaining performance. The method of collision resolution can also significantly impact performance. Overall, hash tables provide an efficient means of key-value storage and retrieval and are widely used in various computer science applications."
   ]
  },
  {
   "cell_type": "code",
   "execution_count": 7,
   "metadata": {},
   "outputs": [],
   "source": [
    "def hash_table_lookup(hash_table: dict, key: int) -> int:\n",
    "    return hash_table.get(key, -1)\n"
   ]
  },
  {
   "cell_type": "code",
   "execution_count": 19,
   "metadata": {},
   "outputs": [
    {
     "name": "stdout",
     "output_type": "stream",
     "text": [
      "Searching for 22 using Hash Table Lookup\n",
      "Value found at index: 4\n",
      "\n"
     ]
    }
   ],
   "source": [
    "hash_table = {value: index for index, value in enumerate(test_list)}\n",
    "search_value = 22\n",
    "print(f\"Searching for {search_value} using Hash Table Lookup\")\n",
    "if search_value in hash_table:\n",
    "    print(f\"Value found at index: {hash_table[search_value]}\\n\")\n",
    "else:\n",
    "    print(f\"Value not found in the list\\n\")\n"
   ]
  },
  {
   "cell_type": "markdown",
   "metadata": {},
   "source": [
    "## **Binary Search Tree Lookup**"
   ]
  },
  {
   "cell_type": "markdown",
   "metadata": {},
   "source": [
    "Binary Search Tree (BST) Lookup is a method used to find a specific key in a binary search tree. A binary search tree is a binary tree in which every node has a key, and the keys in the left subtree of a node are less than the key in the node, while keys in the right subtree of the node are greater than the key in the node.\n",
    "\n",
    "### **How It Works**\n",
    "\n",
    "1. **Start at Root:** Begin the search from the root of the tree.\n",
    "2. **Compare and Traverse:** Compare the key with the current node's key:\n",
    "   - If equal, return the node (key found).\n",
    "   - If the key is less than the current node's key, move to the left child.\n",
    "   - If the key is greater than the current node's key, move to the right child.\n",
    "3. **Repeat:** Continue this process until either the key is found or the current node becomes null (key not found).\n",
    "\n",
    "### **Example**\n",
    "\n",
    "Consider searching for the key `15` in the following BST:\n",
    "\n",
    "```\n",
    "        10\n",
    "       /  \\\n",
    "      5   20\n",
    "          / \\\n",
    "        15   30\n",
    "```\n",
    "\n",
    "1. Compare `15` with `10` (root), move right.\n",
    "2. Compare `15` with `20`, move left.\n",
    "3. Compare `15` with `15`, key found.\n",
    "\n",
    "### **Mathematical Explanation**\n",
    "\n",
    "The lookup operation's efficiency depends on the tree's height. In a balanced tree where the keys are evenly distributed, the height is logarithmic. In an unbalanced tree where the keys may all lie on one side, the height can be linear.\n",
    "\n",
    "### **Complexity Analysis**\n",
    "\n",
    "- **Time Complexity:** \n",
    "    - **Worst-Case:** $O(n)$, if the tree becomes a linked list (skewed tree).\n",
    "    - **Average-Case:** $O(\\log n)$, if the tree is balanced.\n",
    "- **Space Complexity:** $O(1)$, as BST lookup only requires a constant amount of additional space.\n",
    "\n",
    "### **Conclusion**\n",
    "\n",
    "Binary Search Tree Lookup is an efficient way to find a specific key in a collection, especially if the tree is balanced. However, its performance can degrade significantly if the tree becomes unbalanced. Techniques like AVL trees or Red-Black trees can be employed to keep the tree balanced, thus ensuring consistently efficient lookups."
   ]
  },
  {
   "cell_type": "code",
   "execution_count": 22,
   "metadata": {},
   "outputs": [],
   "source": [
    "class TreeNode:\n",
    "    def __init__(self, value: int):\n",
    "        self.value = value\n",
    "        self.left = None\n",
    "        self.right = None\n",
    "\n",
    "def bst_insert(root: TreeNode, value: int) -> TreeNode:\n",
    "    if not root:\n",
    "        return TreeNode(value)\n",
    "    if value < root.value:\n",
    "        root.left = bst_insert(root.left, value)\n",
    "    else:\n",
    "        root.right = bst_insert(root.right, value)\n",
    "    return root\n",
    "\n",
    "def bst_search(root: TreeNode, target: int) -> bool:\n",
    "    if not root:\n",
    "        return False\n",
    "    if target == root.value:\n",
    "        return True\n",
    "    elif target < root.value:\n",
    "        return bst_search(root.left, target)\n",
    "    else:\n",
    "        return bst_search(root.right, target)"
   ]
  },
  {
   "cell_type": "code",
   "execution_count": 23,
   "metadata": {},
   "outputs": [
    {
     "name": "stdout",
     "output_type": "stream",
     "text": [
      "Searching for 22 using Binary Search Tree\n",
      "Value found\n",
      "\n"
     ]
    }
   ],
   "source": [
    "bst = None\n",
    "sorted_test_list = [11, 12, 22, 25, 34, 64, 90]\n",
    "for value in sorted_test_list:\n",
    "    bst = bst_insert(bst, value)\n",
    "\n",
    "search_value = 22\n",
    "print(f\"Searching for {search_value} using Binary Search Tree\")\n",
    "if bst_search(bst, search_value):\n",
    "    print(f\"Value found\\n\")\n",
    "else:\n",
    "    print(f\"Value not found in the tree\\n\")\n"
   ]
  },
  {
   "cell_type": "markdown",
   "metadata": {},
   "source": [
    "## **B-Tree Search**"
   ]
  },
  {
   "cell_type": "markdown",
   "metadata": {},
   "source": [
    "B-tree Search is a method used to find a specific key in a B-tree. B-trees are balanced tree data structures that maintain sorted data in a way that allows searches, insertions, and deletions in logarithmic time. They are widely used in databases and file systems.\n",
    "\n",
    "### **How It Works**\n",
    "\n",
    "1. **Start at Root:** Begin the search from the root of the tree.\n",
    "2. **Find the Child:** Compare the key with the keys in the current node:\n",
    "   - If equal to one of the keys, return the key (found).\n",
    "   - If less than the first key, follow the first child.\n",
    "   - If greater than the last key, follow the last child.\n",
    "   - If in between two keys, follow the child between them.\n",
    "3. **Repeat:** Continue this process with the child node until either the key is found or a leaf node is reached without finding the key (key not found).\n",
    "\n",
    "### **Example**\n",
    "\n",
    "Consider searching for the key `15` in a B-tree of order `3`:\n",
    "\n",
    "```\n",
    "        10\n",
    "       /  \\\n",
    "     5   15  20\n",
    "    / \\  / \\  / \\\n",
    "  1   6 11 16 21 30\n",
    "```\n",
    "\n",
    "1. Compare `15` with `10` in the root, move right.\n",
    "2. Find `15` in the next node, key found.\n",
    "\n",
    "### **Mathematical Explanation**\n",
    "\n",
    "B-trees are designed to work efficiently with large amounts of data that might not fit into main memory. The order of the B-tree, denoted by $t$, is the minimum number of children a non-root internal node can have. The maximum number of keys in any node is $2t - 1$.\n",
    "\n",
    "The key property of a B-tree that ensures logarithmic search time is that it remains balanced. Even in the worst case, the height of the tree is logarithmic in the number of keys.\n",
    "\n",
    "### **Complexity Analysis**\n",
    "\n",
    "- **Time Complexity:** \n",
    "    - **Worst-Case:** $O(\\log n)$, where $n$ is the number of keys in the tree.\n",
    "    - **Average-Case:** $O(\\log n)$\n",
    "- **Space Complexity:** $O(1)$, as B-tree search only requires a constant amount of additional space.\n",
    "\n",
    "### **Conclusion**\n",
    "\n",
    "B-tree Search is an extremely efficient and reliable method for searching keys, especially for systems that deal with large amounts of data that may not entirely fit into main memory. The logarithmic time complexity ensures fast lookups, making it suitable for applications like databases and file systems where quick data retrieval is crucial."
   ]
  },
  {
   "cell_type": "code",
   "execution_count": 26,
   "metadata": {},
   "outputs": [],
   "source": [
    "class BTreeNode:\n",
    "    def __init__(self, leaf: bool=True):\n",
    "        self.leaf = leaf\n",
    "        self.keys = []\n",
    "        self.child = []\n",
    "\n",
    "class BTree:\n",
    "    def __init__(self, t: int):\n",
    "        self.root = BTreeNode(True)\n",
    "        self.t = t # Minimum degree of B-tree\n",
    "\n",
    "    def search(self, k: int, x: BTreeNode = None) -> BTreeNode:\n",
    "        if x is not None:\n",
    "            i = 0\n",
    "            while i < len(x.keys) and k > x.keys[i]:\n",
    "                i += 1\n",
    "            if i < len(x.keys) and k == x.keys[i]:\n",
    "                return (x, i)\n",
    "            elif x.leaf:\n",
    "                return None\n",
    "            else:\n",
    "                return self.search(k, x.child[i])\n",
    "        else:\n",
    "            return self.search(k, self.root)\n",
    "\n",
    "    def split_child(self, x: BTreeNode, i: int):\n",
    "        t = self.t\n",
    "        y = x.child[i]\n",
    "        z = BTreeNode(y.leaf)\n",
    "        x.child.insert(i + 1, z)\n",
    "        x.keys.insert(i, y.keys[t - 1])\n",
    "        \n",
    "        z.keys = y.keys[t: (2 * t) - 1]\n",
    "        y.keys = y.keys[0: t - 1]\n",
    "\n",
    "        if not y.leaf:\n",
    "            z.child = y.child[t: 2 * t]\n",
    "            y.child = y.child[0: t - 1]\n",
    "\n",
    "    def insert(self, k: int):\n",
    "        root = self.root\n",
    "        if len(root.keys) == (2 * self.t) - 1:\n",
    "            temp = BTreeNode()\n",
    "            temp.child.insert(0, root)\n",
    "            self.split_child(temp, 0)\n",
    "            self.root = temp\n",
    "            self.insert_non_full(temp, k)\n",
    "        else:\n",
    "            self.insert_non_full(root, k)\n",
    "\n",
    "    def insert_non_full(self, x: BTreeNode, k: int):\n",
    "        i = len(x.keys) - 1\n",
    "        if x.leaf:\n",
    "            x.keys.append(None)\n",
    "            while i >= 0 and k < x.keys[i]:\n",
    "                x.keys[i + 1] = x.keys[i]\n",
    "                i -= 1\n",
    "            x.keys[i + 1] = k\n",
    "        else:\n",
    "            while i >= 0 and k < x.keys[i]:\n",
    "                i -= 1\n",
    "            i += 1\n",
    "            if len(x.child[i].keys) == (2 * self.t) - 1:\n",
    "                self.split_child(x, i)\n",
    "                if k > x.keys[i]:\n",
    "                    i += 1\n",
    "            self.insert_non_full(x.child[i], k)\n"
   ]
  },
  {
   "cell_type": "code",
   "execution_count": 29,
   "metadata": {},
   "outputs": [
    {
     "name": "stdout",
     "output_type": "stream",
     "text": [
      "Searching for 22 using B-tree\n",
      "Value found\n",
      "\n"
     ]
    }
   ],
   "source": [
    "btree = BTree(t=5)  # Minimum degree of the B-tree\n",
    "for value in sorted_test_list:\n",
    "    btree.insert(value)\n",
    "\n",
    "search_value = 22\n",
    "print(f\"Searching for {search_value} using B-tree\")\n",
    "if btree.search(search_value):\n",
    "    print(f\"Value found\\n\")\n",
    "else:\n",
    "    print(f\"Value not found in the tree\\n\")\n"
   ]
  },
  {
   "cell_type": "markdown",
   "metadata": {},
   "source": [
    "## **Red-Black Tree (RBT)**"
   ]
  },
  {
   "cell_type": "markdown",
   "metadata": {},
   "source": [
    "Red-Black Tree (RBT) is a self-balancing Binary Search Tree (BST) where every node has a color either red or black. It's a complex but highly efficient form of a binary search tree, adhering to specific properties that enable faster lookup, insertion, and deletion operations.\n",
    "\n",
    "### **How Red-Black Tree Lookup Works**\n",
    "\n",
    "1. **Start at Root:** Begin the search from the root of the tree.\n",
    "2. **Traverse the Tree:** Compare the key with the current node:\n",
    "   - If equal, return the node (key found).\n",
    "   - If less, move to the left child.\n",
    "   - If greater, move to the right child.\n",
    "3. **Repeat:** Continue this process until either the key is found or a null child is reached (key not found).\n",
    "\n",
    "### **Example**\n",
    "\n",
    "Consider searching for the key `15` in the following Red-Black Tree:\n",
    "\n",
    "```\n",
    "       (B)10\n",
    "       /    \\\n",
    "  (R)5       (R)15\n",
    "```\n",
    "- Compare `15` with `10` in the root, move right.\n",
    "- Find `15` in the next node, key found.\n",
    "\n",
    "### **Mathematical Explanation**\n",
    "\n",
    "The operations in a Red-Black Tree are guaranteed to take $O(\\log n)$ time because the tree satisfies the following properties:\n",
    "\n",
    "- Every node has a color either red or black.\n",
    "- The root is always black.\n",
    "- There are no two adjacent red nodes.\n",
    "- Every path from root to a null pointer has the same black nodes.\n",
    "\n",
    "These properties ensure that the tree remains approximately balanced, providing logarithmic height.\n",
    "\n",
    "### **Complexity Analysis**\n",
    "\n",
    "- **Time Complexity:**\n",
    "    - **Worst-Case:** $O(\\log n)$, where $n$ is the number of nodes in the tree.\n",
    "    - **Average-Case:** $O(\\log n)$\n",
    "- **Space Complexity:** $O(1)$, as Red-Black Tree search only requires a constant amount of additional space.\n",
    "\n",
    "### **Conclusion**\n",
    "\n",
    "Red-Black Trees offer a highly efficient way to perform lookups. The balancing properties of the tree ensure that it does not degenerate into a linked list, thus providing quick search capabilities even as the tree grows in size. This makes Red-Black Trees suitable for use in many algorithms and data structures where fast search is required, such as associative containers in many programming languages' standard libraries."
   ]
  },
  {
   "cell_type": "code",
   "execution_count": 35,
   "metadata": {},
   "outputs": [],
   "source": [
    "class Node:\n",
    "    def __init__(self, data, color, parent=None):\n",
    "        self.data = data\n",
    "        self.color = color\n",
    "        self.parent = parent\n",
    "        self.left = None\n",
    "        self.right = None\n",
    "\n",
    "class RedBlackTree:\n",
    "    NIL_LEAF = Node(None, 'black')\n",
    "    \n",
    "    def __init__(self):\n",
    "        self.TNULL = self.NIL_LEAF\n",
    "        self.root = self.TNULL\n",
    "\n",
    "\n",
    "    def pre_order_helper(self, node):\n",
    "        if node != self.TNULL:\n",
    "            print(node.data, end=\" \")\n",
    "            self.pre_order_helper(node.left)\n",
    "            self.pre_order_helper(node.right)\n",
    "\n",
    "    def search_tree_helper(self, node, key):\n",
    "        if node == self.TNULL or key == node.data:\n",
    "            return node\n",
    "\n",
    "        if key < node.data:\n",
    "            return self.search_tree_helper(node.left, key)\n",
    "        return self.search_tree_helper(node.right, key)\n",
    "    \n",
    "    def left_rotate(self, x):\n",
    "        y = x.right\n",
    "        x.right = y.left\n",
    "        if y.left != self.TNULL:\n",
    "            y.left.parent = x\n",
    "\n",
    "        y.parent = x.parent\n",
    "        if x.parent == None:\n",
    "            self.root = y\n",
    "        elif x == x.parent.left:\n",
    "            x.parent.left = y\n",
    "        else:\n",
    "            x.parent.right = y\n",
    "        y.left = x\n",
    "        x.parent = y\n",
    "\n",
    "    def right_rotate(self, x):\n",
    "        y = x.left\n",
    "        x.left = y.right\n",
    "        if y.right != self.TNULL:\n",
    "            y.right.parent = x\n",
    "\n",
    "        y.parent = x.parent\n",
    "        if x.parent == None:\n",
    "            self.root = y\n",
    "        elif x == x.parent.right:\n",
    "            x.parent.right = y\n",
    "        else:\n",
    "            x.parent.left = y\n",
    "        y.right = x\n",
    "        x.parent = y\n",
    "\n",
    "    def balance_insert(self, node):\n",
    "        while node.parent.color == 'red':\n",
    "            if node.parent == node.parent.parent.right:\n",
    "                uncle = node.parent.parent.left\n",
    "                if uncle.color == 'red':\n",
    "                    uncle.color = 'black'\n",
    "                    node.parent.color = 'black'\n",
    "                    node.parent.parent.color = 'red'\n",
    "                    node = node.parent.parent\n",
    "                else:\n",
    "                    if node == node.parent.left:\n",
    "                        node = node.parent\n",
    "                        self.right_rotate(node)\n",
    "                    node.parent.color = 'black'\n",
    "                    node.parent.parent.color = 'red'\n",
    "                    self.left_rotate(node.parent.parent)\n",
    "            else:\n",
    "                uncle = node.parent.parent.right\n",
    "                if uncle.color == 'red':\n",
    "                    uncle.color = 'black'\n",
    "                    node.parent.color = 'black'\n",
    "                    node.parent.parent.color = 'red'\n",
    "                    node = node.parent.parent\n",
    "                else:\n",
    "                    if node == node.parent.right:\n",
    "                        node = node.parent\n",
    "                        self.left_rotate(node)\n",
    "                    node.parent.color = 'black'\n",
    "                    node.parent.parent.color = 'red'\n",
    "                    self.right_rotate(node.parent.parent)\n",
    "            if node == self.root:\n",
    "                break\n",
    "        self.root.color = 'black'\n",
    "\n",
    "    def insert(self, key):\n",
    "        node = Node(key, 'red')\n",
    "        node.parent = None\n",
    "        node.data = key\n",
    "        node.left = self.TNULL\n",
    "        node.right = self.TNULL\n",
    "        node.color = 'red'\n",
    "\n",
    "        y = None\n",
    "        x = self.root\n",
    "\n",
    "        while x != self.TNULL:\n",
    "            y = x\n",
    "            if node.data < x.data:\n",
    "                x = x.left\n",
    "            else:\n",
    "                x = x.right\n",
    "\n",
    "        node.parent = y\n",
    "        if y == None:\n",
    "            self.root = node\n",
    "        elif node.data < y.data:\n",
    "            y.left = node\n",
    "        else:\n",
    "            y.right = node\n",
    "\n",
    "        if node.parent == None:\n",
    "            node.color = 'black'\n",
    "            return\n",
    "\n",
    "        if node.parent.parent == None:\n",
    "            return\n",
    "\n",
    "        self.balance_insert(node)\n",
    "\n",
    "    def search(self, k):\n",
    "        return self.search_tree_helper(self.root, k)"
   ]
  },
  {
   "cell_type": "code",
   "execution_count": 36,
   "metadata": {},
   "outputs": [
    {
     "name": "stdout",
     "output_type": "stream",
     "text": [
      "Searching for 22 using Red-Black Tree\n",
      "Value found\n",
      "\n"
     ]
    }
   ],
   "source": [
    "rb_tree = RedBlackTree()\n",
    "for value in sorted_test_list:\n",
    "    rb_tree.insert(value)\n",
    "\n",
    "search_value = 22\n",
    "print(f\"Searching for {search_value} using Red-Black Tree\")\n",
    "if rb_tree.search(search_value):\n",
    "    print(f\"Value found\\n\")\n",
    "else:\n",
    "    print(f\"Value not found in the tree\\n\")\n"
   ]
  },
  {
   "cell_type": "markdown",
   "metadata": {},
   "source": [
    "## **Trie Search**"
   ]
  },
  {
   "cell_type": "markdown",
   "metadata": {},
   "source": [
    "A Trie (pronounced \"try\") is a tree-like data structure used for storing a dynamic set of strings, where the keys are usually strings. It's especially used for retrieval, and the primary advantage of using a Trie is that it provides fast searching for words and prefixes. It's widely used in applications like autocompletion.\n",
    "\n",
    "### **How Trie Search Works**\n",
    "\n",
    "1. **Start at Root:** Begin the search from the root of the Trie.\n",
    "2. **Traverse the Trie:** For each character in the word:\n",
    "   - Look for the character among the current node's children.\n",
    "   - If found, move to the corresponding child node and continue.\n",
    "   - If not found, return that the word does not exist in the Trie.\n",
    "3. **Check End of Word:** If you've traversed the entire word and the current node's end-of-word flag is set, the word exists in the Trie. If not, it doesn't.\n",
    "\n",
    "### **Example**\n",
    "\n",
    "Consider searching for the word \"bat\" in a Trie containing \"bat\", \"ball\", \"batman\", \"batwoman\", \"batter\", \"battle\".\n",
    "\n",
    "- Start at the root.\n",
    "- Move to the child node representing 'b', then to 'a', and then to 't'.\n",
    "- Reach a node where the end-of-word flag is set. The word \"bat\" is found.\n",
    "\n",
    "### **Mathematical Explanation**\n",
    "\n",
    "The lookup operation in a Trie depends on the length of the word that needs to be searched. Since every character in the word needs to be examined, the time complexity is proportional to the length of the word.\n",
    "\n",
    "### **Complexity Analysis**\n",
    "\n",
    "- **Time Complexity:**\n",
    "    - **Worst-Case:** $O(m)$, where $m$ is the length of the word to be searched.\n",
    "    - **Average-Case:** $O(m)$\n",
    "- **Space Complexity:** $O(1)$, as Trie search only requires a constant amount of additional space.\n",
    "\n",
    "### **Conclusion**\n",
    "\n",
    "Trie search is an efficient way to search for words in a set of strings, especially when there are common prefixes among the words. It provides a time complexity that is linear with respect to the length of the word being searched, rather than the number of words in the set. This makes Tries particularly useful in applications like dictionaries, phonebooks, and text prediction, where quick lookup times are essential."
   ]
  },
  {
   "cell_type": "code",
   "execution_count": 37,
   "metadata": {},
   "outputs": [],
   "source": [
    "class TrieNode:\n",
    "    def __init__(self):\n",
    "        self.children = {}\n",
    "        self.end_of_word = False\n",
    "\n",
    "class Trie:\n",
    "    def __init__(self):\n",
    "        self.root = TrieNode()\n",
    "\n",
    "    def insert(self, word: str) -> None:\n",
    "        node = self.root\n",
    "        for char in word:\n",
    "            if char not in node.children:\n",
    "                node.children[char] = TrieNode()\n",
    "            node = node.children[char]\n",
    "        node.end_of_word = True\n",
    "\n",
    "    def search(self, word: str) -> bool:\n",
    "        node = self.root\n",
    "        for char in word:\n",
    "            if char not in node.children:\n",
    "                return False\n",
    "            node = node.children[char]\n",
    "        return node.end_of_word\n"
   ]
  },
  {
   "cell_type": "code",
   "execution_count": 39,
   "metadata": {},
   "outputs": [
    {
     "name": "stdout",
     "output_type": "stream",
     "text": [
      "The value 22 is present in the Trie.\n"
     ]
    }
   ],
   "source": [
    "trie = Trie()\n",
    "\n",
    "# Inserting the elements from test_list into the Trie\n",
    "for value in test_list:\n",
    "    trie.insert(str(value))  # Convert the integer to string before insertion\n",
    "\n",
    "# Searching for a particular value\n",
    "search_value = 22\n",
    "if trie.search(str(search_value)):  # Convert the integer to string before searching\n",
    "    print(f\"The value {search_value} is present in the Trie.\")\n",
    "else:\n",
    "    print(f\"The value {search_value} is not present in the Trie.\")\n"
   ]
  },
  {
   "cell_type": "markdown",
   "metadata": {},
   "source": [
    "## **Comparing Searching Algorithms**"
   ]
  },
  {
   "cell_type": "markdown",
   "metadata": {},
   "source": [
    "### 1. Linear Search\n",
    "- **Advantages:**\n",
    "  - Simple to implement\n",
    "  - Works with unsorted data\n",
    "  - No extra space required\n",
    "- **Disadvantages:**\n",
    "  - Slow for large datasets\n",
    "  - Inefficient for searching sorted lists\n",
    "\n",
    "### 2. Binary Search\n",
    "- **Advantages:**\n",
    "  - Efficient for sorted lists\n",
    "  - Logarithmic time complexity\n",
    "- **Disadvantages:**\n",
    "  - Requires sorted data\n",
    "  - More complex than linear search\n",
    "\n",
    "### 3. Jump Search\n",
    "- **Advantages:**\n",
    "  - Faster than linear search for sorted data\n",
    "  - Simpler than binary search\n",
    "- **Disadvantages:**\n",
    "  - Requires sorted data\n",
    "  - Not as fast as binary search\n",
    "\n",
    "### 4. Interpolation Search\n",
    "- **Advantages:**\n",
    "  - Can be faster than binary search for uniformly distributed data\n",
    "  - Works well on sorted data\n",
    "- **Disadvantages:**\n",
    "  - Requires sorted data\n",
    "  - Performance can degrade for non-uniformly distributed data\n",
    "\n",
    "### 5. Hash Table Lookup\n",
    "- **Advantages:**\n",
    "  - Constant time complexity in the average case\n",
    "  - Efficient for large datasets\n",
    "- **Disadvantages:**\n",
    "  - Requires extra space for the hash table\n",
    "  - Performance can degrade with poor hash function\n",
    "\n",
    "### 6. Binary Search Tree (BST) Search\n",
    "- **Advantages:**\n",
    "  - Logarithmic time complexity in balanced trees\n",
    "  - Supports various dynamic operations\n",
    "- **Disadvantages:**\n",
    "  - Can degrade to linear time in unbalanced trees\n",
    "  - Requires extra space\n",
    "\n",
    "### 7. B-Tree Search\n",
    "- **Advantages:**\n",
    "  - Well-suited for disk-based storage\n",
    "  - Maintains balanced structure\n",
    "- **Disadvantages:**\n",
    "  - More complex to implement\n",
    "  - Requires extra space\n",
    "\n",
    "### 8. Red-Black Tree Search\n",
    "- **Advantages:**\n",
    "  - Self-balancing tree structure\n",
    "  - Logarithmic time complexity\n",
    "- **Disadvantages:**\n",
    "  - Complex to implement\n",
    "  - Requires extra space\n",
    "\n",
    "### 9. Trie Search\n",
    "- **Advantages:**\n",
    "  - Efficient for string-based keys\n",
    "  - Prefix-based searching\n",
    "- **Disadvantages:**\n",
    "  - Can consume more space for sparse datasets\n",
    "  - Performance can vary based on key length\n",
    "\n",
    "### Complexity Comparison Table\n",
    "\n",
    "| Algorithm            | Best Case     | Average Case  | Worst Case    |\n",
    "|----------------------|---------------|---------------|---------------|\n",
    "| Linear Search        | $O(1)$        | $O(n)$        | $O(n)$        |\n",
    "| Binary Search        | $O(1)$        | $O(\\log n)$   | $O(\\log n)$   |\n",
    "| Jump Search          | $O(1)$        | $O(\\sqrt{n})$ | $O(\\sqrt{n})$ |\n",
    "| Interpolation Search | $O(1)$        | $O(\\log n)$   | $O(n)$        |\n",
    "| Hash Table Lookup    | $O(1)$        | $O(1)$        | $O(n)$        |\n",
    "| BST Search           | $O(\\log n)$   | $O(\\log n)$   | $O(n)$        |\n",
    "| B-Tree Search        | $O(\\log n)$   | $O(\\log n)$   | $O(\\log n)$   |\n",
    "| Red-Black Tree Search| $O(\\log n)$   | $O(\\log n)$   | $O(\\log n)$   |\n",
    "| Trie Search          | $O(k)$        | $O(k)$        | $O(k)$        |\n",
    "\n",
    "Here, $n$ is the number of elements in the collection, and $k$ is the length of the key for the Trie search.\n"
   ]
  },
  {
   "cell_type": "code",
   "execution_count": 43,
   "metadata": {},
   "outputs": [
    {
     "data": {
      "image/png": "[encoded data removed]",
      "text/plain": [
       "<Figure size 1200x600 with 1 Axes>"
      ]
     },
     "metadata": {},
     "output_type": "display_data"
    }
   ],
   "source": [
    "def timed_search(search_algorithm: Callable[[List[int], int], int], search_list: List[int], test_value: int) -> float:\n",
    "    start_time = time.perf_counter()\n",
    "    search_algorithm(search_list, test_value)\n",
    "    return time.perf_counter() - start_time\n",
    "\n",
    "def compare_search_algorithms():\n",
    "    algorithms = ['Linear Search', 'Binary Search', 'Jump Search', 'Interpolation Search', 'Hash Table Lookup',\n",
    "                  'BST Search', 'B-Tree Search', 'Red-Black Tree Search', 'Trie Search']\n",
    "    times = []\n",
    "\n",
    "    # Record the time taken by each searching algorithm\n",
    "    times.append(timed_search(linear_search, test_list, 22))\n",
    "    times.append(timed_search(binary_search, sorted_test_list, 22))\n",
    "    times.append(timed_search(jump_search, sorted_test_list, 22))\n",
    "    times.append(timed_search(interpolation_search, sorted_test_list, 22))\n",
    "\n",
    "    # Hash Table Lookup\n",
    "    start_time = time.perf_counter()\n",
    "    _ = 22 in hash_table\n",
    "    times.append(time.perf_counter() - start_time)\n",
    "\n",
    "    # BST Search\n",
    "    start_time = time.perf_counter()\n",
    "    _ = bst_search(bst, 22)\n",
    "    times.append(time.perf_counter() - start_time)\n",
    "\n",
    "    # B-Tree Search\n",
    "    start_time = time.perf_counter()\n",
    "    _ = btree.search(22)\n",
    "    times.append(time.perf_counter() - start_time)\n",
    "\n",
    "    # Red-Black Tree Search\n",
    "    start_time = time.perf_counter()\n",
    "    _ = rb_tree.search(22)\n",
    "    times.append(time.perf_counter() - start_time)\n",
    "\n",
    "    # Trie Search\n",
    "    start_time = time.perf_counter()\n",
    "    _ = trie.search(str(22))\n",
    "    times.append(time.perf_counter() - start_time)\n",
    "\n",
    "    # Plotting the graph\n",
    "    plt.figure(figsize=[12,6])\n",
    "    plt.bar(algorithms, times, color=['blue', 'orange', 'green', 'red', 'purple', 'brown', 'pink', 'gray', 'cyan'])\n",
    "    plt.xlabel('Search Algorithms')\n",
    "    plt.ylabel('Time (seconds)')\n",
    "    plt.title('Comparison of Searching Algorithms')\n",
    "    plt.xticks(rotation=45, ha='right')\n",
    "    plt.yscale('log')  # Optional: use a logarithmic scale to differentiate algorithms with small time differences\n",
    "    plt.show()\n",
    "\n",
    "# Run the comparison\n",
    "compare_search_algorithms()\n"
   ]
  }
 ],
 "metadata": {
  "kernelspec": {
   "display_name": "algorithms-48r-bkw0-py3.10",
   "language": "python",
   "name": "python3"
  },
  "language_info": {
   "codemirror_mode": {
    "name": "ipython",
    "version": 3
   },
   "file_extension": ".py",
   "mimetype": "text/x-python",
   "name": "python",
   "nbconvert_exporter": "python",
   "pygments_lexer": "ipython3",
   "version": "3.10.11"
  },
  "orig_nbformat": 4
 },
 "nbformat": 4,
 "nbformat_minor": 2
}
