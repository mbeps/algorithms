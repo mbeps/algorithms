{
 "cells": [
  {
   "cell_type": "markdown",
   "metadata": {},
   "source": [
    "# **Sorting Algorithms**"
   ]
  },
  {
   "cell_type": "code",
   "execution_count": 67,
   "metadata": {},
   "outputs": [],
   "source": [
    "from typing import List, Callable, Dict\n",
    "import heapq\n",
    "import matplotlib.pyplot as plt\n",
    "import timeit"
   ]
  },
  {
   "cell_type": "code",
   "execution_count": 68,
   "metadata": {},
   "outputs": [],
   "source": [
    "test_list: list[int] = [64, 34, 25, 12, 22, 11, 90]\n",
    "\n",
    "def run_tests(sorting_algorithm: Callable[[List[int]], List[int]]) -> None:\n",
    "    print(f\"Original List: {test_list}\\nSorted List: {sorting_algorithm(test_list.copy())}\\n\")"
   ]
  },
  {
   "cell_type": "markdown",
   "metadata": {},
   "source": [
    "## **Bubble Sort**"
   ]
  },
  {
   "cell_type": "code",
   "execution_count": 69,
   "metadata": {},
   "outputs": [],
   "source": [
    "def bubble_sort(arr: List[int]) -> List[int]:\n",
    "    n: int = len(arr)\n",
    "    for i in range(n):\n",
    "        swapped: bool = False\n",
    "        for j in range(0, n - i - 1):\n",
    "            if arr[j] > arr[j + 1]:\n",
    "                arr[j], arr[j + 1] = arr[j + 1], arr[j]  # Swapping the elements\n",
    "                swapped = True\n",
    "        if not swapped:\n",
    "            break\n",
    "    return arr\n"
   ]
  },
  {
   "cell_type": "code",
   "execution_count": 70,
   "metadata": {},
   "outputs": [
    {
     "name": "stdout",
     "output_type": "stream",
     "text": [
      "Testing Bubble Sort:\n",
      "Original List: [64, 34, 25, 12, 22, 11, 90]\n",
      "Sorted List: [11, 12, 22, 25, 34, 64, 90]\n",
      "\n"
     ]
    }
   ],
   "source": [
    "print(\"Testing Bubble Sort:\")\n",
    "run_tests(bubble_sort)"
   ]
  },
  {
   "cell_type": "markdown",
   "metadata": {},
   "source": [
    "## **Selection Sort**"
   ]
  },
  {
   "cell_type": "code",
   "execution_count": 71,
   "metadata": {},
   "outputs": [],
   "source": [
    "def selection_sort(arr: List[int]) -> List[int]:\n",
    "    for i in range(len(arr)):\n",
    "        min_idx = i\n",
    "        for j in range(i + 1, len(arr)):\n",
    "            if arr[min_idx] > arr[j]:\n",
    "                min_idx = j\n",
    "        arr[i], arr[min_idx] = arr[min_idx], arr[i]\n",
    "    return arr\n"
   ]
  },
  {
   "cell_type": "code",
   "execution_count": 72,
   "metadata": {},
   "outputs": [
    {
     "name": "stdout",
     "output_type": "stream",
     "text": [
      "Testing Selection Sort:\n",
      "Original List: [64, 34, 25, 12, 22, 11, 90]\n",
      "Sorted List: [11, 12, 22, 25, 34, 64, 90]\n",
      "\n"
     ]
    }
   ],
   "source": [
    "print(\"Testing Selection Sort:\")\n",
    "run_tests(selection_sort)"
   ]
  },
  {
   "cell_type": "markdown",
   "metadata": {},
   "source": [
    "## **Insertion Sort**"
   ]
  },
  {
   "cell_type": "code",
   "execution_count": 73,
   "metadata": {},
   "outputs": [],
   "source": [
    "def insertion_sort(arr: List[int]) -> List[int]:\n",
    "    for i in range(1, len(arr)):\n",
    "        key = arr[i]\n",
    "        j = i - 1\n",
    "        while j >= 0 and key < arr[j]:\n",
    "            arr[j + 1] = arr[j]\n",
    "            j -= 1\n",
    "        arr[j + 1] = key\n",
    "    return arr"
   ]
  },
  {
   "cell_type": "code",
   "execution_count": 74,
   "metadata": {},
   "outputs": [
    {
     "name": "stdout",
     "output_type": "stream",
     "text": [
      "Testing Insertion Sort:\n",
      "Original List: [64, 34, 25, 12, 22, 11, 90]\n",
      "Sorted List: [11, 12, 22, 25, 34, 64, 90]\n",
      "\n"
     ]
    }
   ],
   "source": [
    "print(\"Testing Insertion Sort:\")\n",
    "run_tests(insertion_sort)"
   ]
  },
  {
   "cell_type": "markdown",
   "metadata": {},
   "source": [
    "## **Merge Sort**"
   ]
  },
  {
   "cell_type": "code",
   "execution_count": 75,
   "metadata": {},
   "outputs": [],
   "source": [
    "def merge_sort(arr: List[int]) -> List[int]:\n",
    "    if len(arr) <= 1:\n",
    "        return arr\n",
    "    mid = len(arr) // 2\n",
    "    left = merge_sort(arr[:mid])\n",
    "    right = merge_sort(arr[mid:])\n",
    "\n",
    "    return merge(left, right)\n",
    "\n",
    "def merge(left: List[int], right: List[int]) -> List[int]:\n",
    "    result = []\n",
    "    i = j = 0\n",
    "    while i < len(left) and j < len(right):\n",
    "        if left[i] < right[j]:\n",
    "            result.append(left[i])\n",
    "            i += 1\n",
    "        else:\n",
    "            result.append(right[j])\n",
    "            j += 1\n",
    "    result += left[i:]\n",
    "    result += right[j:]\n",
    "    return result\n"
   ]
  },
  {
   "cell_type": "code",
   "execution_count": 76,
   "metadata": {},
   "outputs": [
    {
     "name": "stdout",
     "output_type": "stream",
     "text": [
      "Testing Merge Sort:\n",
      "Original List: [64, 34, 25, 12, 22, 11, 90]\n",
      "Sorted List: [11, 12, 22, 25, 34, 64, 90]\n",
      "\n"
     ]
    }
   ],
   "source": [
    "print(\"Testing Merge Sort:\")\n",
    "run_tests(merge_sort)"
   ]
  },
  {
   "cell_type": "markdown",
   "metadata": {},
   "source": [
    "## **Quick Sort**"
   ]
  },
  {
   "cell_type": "code",
   "execution_count": 77,
   "metadata": {},
   "outputs": [],
   "source": [
    "def quick_sort(arr: List[int]) -> List[int]:\n",
    "    if len(arr) <= 1:\n",
    "        return arr\n",
    "    pivot = arr[len(arr) // 2]\n",
    "    left = [x for x in arr if x < pivot]\n",
    "    middle = [x for x in arr if x == pivot]\n",
    "    right = [x for x in arr if x > pivot]\n",
    "    return quick_sort(left) + middle + quick_sort(right)\n"
   ]
  },
  {
   "cell_type": "code",
   "execution_count": 78,
   "metadata": {},
   "outputs": [
    {
     "name": "stdout",
     "output_type": "stream",
     "text": [
      "Testing Quick Sort:\n",
      "Original List: [64, 34, 25, 12, 22, 11, 90]\n",
      "Sorted List: [11, 12, 22, 25, 34, 64, 90]\n",
      "\n"
     ]
    }
   ],
   "source": [
    "print(\"Testing Quick Sort:\")\n",
    "run_tests(quick_sort)"
   ]
  },
  {
   "cell_type": "markdown",
   "metadata": {},
   "source": [
    "## **Heap Sort**"
   ]
  },
  {
   "cell_type": "code",
   "execution_count": 79,
   "metadata": {},
   "outputs": [],
   "source": [
    "def heap_sort(arr: List[int]) -> List[int]:\n",
    "    heapq.heapify(arr)\n",
    "    return [heapq.heappop(arr) for _ in range(len(arr))]"
   ]
  },
  {
   "cell_type": "code",
   "execution_count": 80,
   "metadata": {},
   "outputs": [
    {
     "name": "stdout",
     "output_type": "stream",
     "text": [
      "Testing Heap Sort:\n",
      "Original List: [64, 34, 25, 12, 22, 11, 90]\n",
      "Sorted List: [11, 12, 22, 25, 34, 64, 90]\n",
      "\n"
     ]
    }
   ],
   "source": [
    "print(\"Testing Heap Sort:\")\n",
    "run_tests(heap_sort)"
   ]
  },
  {
   "cell_type": "markdown",
   "metadata": {},
   "source": [
    "## **Counting Sort**"
   ]
  },
  {
   "cell_type": "code",
   "execution_count": 81,
   "metadata": {},
   "outputs": [],
   "source": [
    "def counting_sort(arr: List[int]) -> List[int]:\n",
    "    if not arr:\n",
    "        return arr\n",
    "    max_val = max(arr)\n",
    "    count = [0] * (max_val + 1)\n",
    "    output = [0] * len(arr)\n",
    "\n",
    "    for num in arr:\n",
    "        count[num] += 1\n",
    "\n",
    "    for i in range(1, len(count)):\n",
    "        count[i] += count[i - 1]\n",
    "\n",
    "    for i in range(len(arr) - 1, -1, -1):\n",
    "        output[count[arr[i]] - 1] = arr[i]\n",
    "        count[arr[i]] -= 1\n",
    "\n",
    "    return output\n"
   ]
  },
  {
   "cell_type": "code",
   "execution_count": 82,
   "metadata": {},
   "outputs": [
    {
     "name": "stdout",
     "output_type": "stream",
     "text": [
      "Testing Counting Sort:\n",
      "Original List: [64, 34, 25, 12, 22, 11, 90]\n",
      "Sorted List: [11, 12, 22, 25, 34, 64, 90]\n",
      "\n"
     ]
    }
   ],
   "source": [
    "print(\"Testing Counting Sort:\")\n",
    "run_tests(counting_sort)"
   ]
  },
  {
   "cell_type": "markdown",
   "metadata": {},
   "source": [
    "## **Radix Sort**"
   ]
  },
  {
   "cell_type": "code",
   "execution_count": 83,
   "metadata": {},
   "outputs": [],
   "source": [
    "def radix_sort(arr: List[int]) -> List[int]:\n",
    "    if not arr:\n",
    "        return arr\n",
    "    max_val = max(arr)\n",
    "    exp = 1\n",
    "    n = len(arr)\n",
    "    output = [0] * n\n",
    "\n",
    "    while max_val // exp > 0:\n",
    "        counting_sort_exp(arr, exp, output)\n",
    "        arr = output.copy()\n",
    "        exp *= 10\n",
    "    return arr\n",
    "\n",
    "\n",
    "def counting_sort_exp(arr: List[int], exp: int, output: List[int]):\n",
    "    n = len(arr)\n",
    "    count = [0] * 10\n",
    "\n",
    "    for i in range(n):\n",
    "        index = arr[i] // exp\n",
    "        count[index % 10] += 1\n",
    "\n",
    "    for i in range(1, 10):\n",
    "        count[i] += count[i - 1]\n",
    "\n",
    "    for i in range(n - 1, -1, -1):\n",
    "        index = arr[i] // exp\n",
    "        output[count[index % 10] - 1] = arr[i]\n",
    "        count[index % 10] -= 1"
   ]
  },
  {
   "cell_type": "code",
   "execution_count": 84,
   "metadata": {},
   "outputs": [
    {
     "name": "stdout",
     "output_type": "stream",
     "text": [
      "Testing Radix Sort:\n",
      "Original List: [64, 34, 25, 12, 22, 11, 90]\n",
      "Sorted List: [11, 12, 22, 25, 34, 64, 90]\n",
      "\n"
     ]
    }
   ],
   "source": [
    "print(\"Testing Radix Sort:\")\n",
    "run_tests(radix_sort)"
   ]
  },
  {
   "cell_type": "markdown",
   "metadata": {},
   "source": [
    "## **Bucket Sort**"
   ]
  },
  {
   "cell_type": "code",
   "execution_count": 85,
   "metadata": {},
   "outputs": [],
   "source": [
    "def bucket_sort(arr: List[int]) -> List[int]:\n",
    "    if len(arr) == 0:\n",
    "        return arr\n",
    "\n",
    "    min_val, max_val = min(arr), max(arr)\n",
    "    bucket_range = (max_val - min_val) / len(arr)\n",
    "    buckets = [[] for _ in range(len(arr) + 1)]\n",
    "\n",
    "    for num in arr:\n",
    "        index = int((num - min_val) / bucket_range)\n",
    "        buckets[index].append(num)\n",
    "\n",
    "    sorted_arr = []\n",
    "    for bucket in buckets:\n",
    "        sorted_arr += sorted(bucket)\n",
    "\n",
    "    return sorted_arr\n"
   ]
  },
  {
   "cell_type": "code",
   "execution_count": 86,
   "metadata": {},
   "outputs": [
    {
     "name": "stdout",
     "output_type": "stream",
     "text": [
      "Testing Bucket Sort:\n",
      "Original List: [64, 34, 25, 12, 22, 11, 90]\n",
      "Sorted List: [11, 12, 22, 25, 34, 64, 90]\n",
      "\n"
     ]
    }
   ],
   "source": [
    "print(\"Testing Bucket Sort:\")\n",
    "run_tests(bubble_sort)"
   ]
  },
  {
   "cell_type": "markdown",
   "metadata": {},
   "source": [
    "## **Comparing Sorting Algorithms**"
   ]
  },
  {
   "cell_type": "code",
   "execution_count": 90,
   "metadata": {},
   "outputs": [],
   "source": [
    "def compare_algorithms(algorithms: Dict[str, Callable[[List[int]], List[int]]], lists_to_sort: List[List[int]]) -> None:\n",
    "    for name, algorithm in algorithms.items():\n",
    "        times = []\n",
    "        for lst in lists_to_sort:\n",
    "            # Time the sorting algorithm on this list and repeat it 10 times for accuracy\n",
    "            timer = timeit.Timer(lambda: algorithm(lst.copy()))\n",
    "            times.append(timer.timeit(number=10))\n",
    "        plt.plot([len(lst) for lst in lists_to_sort], times, label=name)\n",
    "\n",
    "    plt.xlabel('List Length')\n",
    "    plt.ylabel('Time (seconds)')\n",
    "    plt.legend()\n",
    "    plt.show()\n"
   ]
  },
  {
   "cell_type": "code",
   "execution_count": 92,
   "metadata": {},
   "outputs": [
    {
     "data": {
      "image/png": "[encoded data removed]",
      "text/plain": [
       "<Figure size 640x480 with 1 Axes>"
      ]
     },
     "metadata": {},
     "output_type": "display_data"
    }
   ],
   "source": [
    "algorithms = {\n",
    "    'Bubble Sort': bubble_sort,\n",
    "    'Selection Sort': selection_sort,\n",
    "    'Insertion Sort': insertion_sort,\n",
    "    'Merge Sort': merge_sort,\n",
    "    'Quick Sort': quick_sort,\n",
    "    'Heap Sort': heap_sort,\n",
    "    'Counting Sort': counting_sort,\n",
    "    'Radix Sort': radix_sort,\n",
    "    'Bucket Sort': bucket_sort\n",
    "}\n",
    "\n",
    "# Generating some random test cases of different sizes\n",
    "import random\n",
    "lists_to_sort = [random.sample(range(1000), k=i) for i in range(100, 1001, 100)]\n",
    "\n",
    "compare_algorithms(algorithms, lists_to_sort)"
   ]
  }
 ],
 "metadata": {
  "kernelspec": {
   "display_name": "algorithms-48r-bkw0-py3.10",
   "language": "python",
   "name": "python3"
  },
  "language_info": {
   "codemirror_mode": {
    "name": "ipython",
    "version": 3
   },
   "file_extension": ".py",
   "mimetype": "text/x-python",
   "name": "python",
   "nbconvert_exporter": "python",
   "pygments_lexer": "ipython3",
   "version": "3.10.11"
  },
  "orig_nbformat": 4
 },
 "nbformat": 4,
 "nbformat_minor": 2
}
